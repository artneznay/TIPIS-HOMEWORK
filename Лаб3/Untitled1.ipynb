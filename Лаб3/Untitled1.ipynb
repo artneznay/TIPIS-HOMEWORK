{
  "nbformat": 4,
  "nbformat_minor": 0,
  "metadata": {
    "colab": {
      "provenance": []
    },
    "kernelspec": {
      "name": "python3",
      "display_name": "Python 3"
    },
    "language_info": {
      "name": "python"
    },
    "widgets": {
      "application/vnd.jupyter.widget-state+json": {
        "fb5a46a70d004e628e4094f0fd669732": {
          "model_module": "catboost-widget",
          "model_name": "CatboostWidgetModel",
          "model_module_version": "^1.0.0",
          "state": {
            "_dom_classes": [],
            "_model_module": "catboost-widget",
            "_model_module_version": "^1.0.0",
            "_model_name": "CatboostWidgetModel",
            "_view_count": null,
            "_view_module": "catboost-widget",
            "_view_module_version": "^1.0.0",
            "_view_name": "CatboostWidgetView",
            "data": {
              "catboost_info": {
                "path": "catboost_info",
                "name": "catboost_info",
                "content": {
                  "passed_iterations": 649,
                  "total_iterations": 1000,
                  "data": {
                    "iterations": [
                      {
                        "learn": [
                          3646.831237
                        ],
                        "iteration": 0,
                        "passed_time": 0.1190002785,
                        "remaining_time": 118.8812782,
                        "test": [
                          3688.303237
                        ]
                      },
                      {
                        "learn": [
                          3344.428133
                        ],
                        "iteration": 1,
                        "passed_time": 0.2026633245,
                        "remaining_time": 101.1289989,
                        "test": [
                          3382.802856
                        ]
                      },
                      {
                        "learn": [
                          3077.498143
                        ],
                        "iteration": 2,
                        "passed_time": 0.2875995227,
                        "remaining_time": 95.57890805,
                        "test": [
                          3113.715647
                        ]
                      },
                      {
                        "learn": [
                          2846.178033
                        ],
                        "iteration": 3,
                        "passed_time": 0.3772067514,
                        "remaining_time": 93.9244811,
                        "test": [
                          2879.87831
                        ]
                      },
                      {
                        "learn": [
                          2638.89537
                        ],
                        "iteration": 4,
                        "passed_time": 0.4598401766,
                        "remaining_time": 91.50819514,
                        "test": [
                          2670.998202
                        ]
                      },
                      {
                        "learn": [
                          2455.588267
                        ],
                        "iteration": 5,
                        "passed_time": 0.5350451446,
                        "remaining_time": 88.63914563,
                        "test": [
                          2486.982066
                        ]
                      },
                      {
                        "learn": [
                          2296.236615
                        ],
                        "iteration": 6,
                        "passed_time": 0.6092241365,
                        "remaining_time": 86.42279536,
                        "test": [
                          2325.668274
                        ]
                      },
                      {
                        "learn": [
                          2134.879766
                        ],
                        "iteration": 7,
                        "passed_time": 0.6589278908,
                        "remaining_time": 81.70705846,
                        "test": [
                          2161.882941
                        ]
                      },
                      {
                        "learn": [
                          1987.898018
                        ],
                        "iteration": 8,
                        "passed_time": 0.7162807621,
                        "remaining_time": 78.87047059,
                        "test": [
                          2011.194793
                        ]
                      },
                      {
                        "learn": [
                          1859.628313
                        ],
                        "iteration": 9,
                        "passed_time": 0.7878586706,
                        "remaining_time": 77.99800839,
                        "test": [
                          1879.55636
                        ]
                      },
                      {
                        "learn": [
                          1727.437892
                        ],
                        "iteration": 10,
                        "passed_time": 0.8512944057,
                        "remaining_time": 76.53910611,
                        "test": [
                          1744.090597
                        ]
                      },
                      {
                        "learn": [
                          1617.481775
                        ],
                        "iteration": 11,
                        "passed_time": 0.9249750837,
                        "remaining_time": 76.15628189,
                        "test": [
                          1623.583389
                        ]
                      },
                      {
                        "learn": [
                          1516.499779
                        ],
                        "iteration": 12,
                        "passed_time": 0.9765647345,
                        "remaining_time": 74.14379946,
                        "test": [
                          1521.63977
                        ]
                      },
                      {
                        "learn": [
                          1426.77469
                        ],
                        "iteration": 13,
                        "passed_time": 1.02156895,
                        "remaining_time": 71.94764177,
                        "test": [
                          1428.922315
                        ]
                      },
                      {
                        "learn": [
                          1346.080237
                        ],
                        "iteration": 14,
                        "passed_time": 1.069282722,
                        "remaining_time": 70.21623208,
                        "test": [
                          1347.170139
                        ]
                      },
                      {
                        "learn": [
                          1282.317526
                        ],
                        "iteration": 15,
                        "passed_time": 1.148647249,
                        "remaining_time": 70.64180579,
                        "test": [
                          1277.35059
                        ]
                      },
                      {
                        "learn": [
                          1217.500488
                        ],
                        "iteration": 16,
                        "passed_time": 1.242148093,
                        "remaining_time": 71.82538678,
                        "test": [
                          1213.193578
                        ]
                      },
                      {
                        "learn": [
                          1161.45567
                        ],
                        "iteration": 17,
                        "passed_time": 1.310672016,
                        "remaining_time": 71.50444,
                        "test": [
                          1156.008505
                        ]
                      },
                      {
                        "learn": [
                          1112.740485
                        ],
                        "iteration": 18,
                        "passed_time": 1.35284102,
                        "remaining_time": 69.84931793,
                        "test": [
                          1107.467213
                        ]
                      },
                      {
                        "learn": [
                          1070.401914
                        ],
                        "iteration": 19,
                        "passed_time": 1.408232208,
                        "remaining_time": 69.0033782,
                        "test": [
                          1063.415361
                        ]
                      },
                      {
                        "learn": [
                          1028.78754
                        ],
                        "iteration": 20,
                        "passed_time": 1.45620069,
                        "remaining_time": 67.88668933,
                        "test": [
                          1017.995475
                        ]
                      },
                      {
                        "learn": [
                          989.0592572
                        ],
                        "iteration": 21,
                        "passed_time": 1.5157636,
                        "remaining_time": 67.38258187,
                        "test": [
                          979.5729318
                        ]
                      },
                      {
                        "learn": [
                          954.791688
                        ],
                        "iteration": 22,
                        "passed_time": 1.566071344,
                        "remaining_time": 66.52398708,
                        "test": [
                          944.4119319
                        ]
                      },
                      {
                        "learn": [
                          923.8759696
                        ],
                        "iteration": 23,
                        "passed_time": 1.650728403,
                        "remaining_time": 67.12962171,
                        "test": [
                          913.2888999
                        ]
                      },
                      {
                        "learn": [
                          901.763606
                        ],
                        "iteration": 24,
                        "passed_time": 1.726263388,
                        "remaining_time": 67.32427213,
                        "test": [
                          891.8870858
                        ]
                      },
                      {
                        "learn": [
                          876.7630226
                        ],
                        "iteration": 25,
                        "passed_time": 1.79185167,
                        "remaining_time": 67.12552024,
                        "test": [
                          867.7479253
                        ]
                      },
                      {
                        "learn": [
                          857.8752045
                        ],
                        "iteration": 26,
                        "passed_time": 1.836476327,
                        "remaining_time": 66.18116542,
                        "test": [
                          846.9898952
                        ]
                      },
                      {
                        "learn": [
                          836.0831548
                        ],
                        "iteration": 27,
                        "passed_time": 1.879879546,
                        "remaining_time": 65.25867566,
                        "test": [
                          825.9131011
                        ]
                      },
                      {
                        "learn": [
                          814.4759185
                        ],
                        "iteration": 28,
                        "passed_time": 1.915922081,
                        "remaining_time": 64.15035659,
                        "test": [
                          804.5802802
                        ]
                      },
                      {
                        "learn": [
                          796.2381011
                        ],
                        "iteration": 29,
                        "passed_time": 1.979439552,
                        "remaining_time": 64.00187886,
                        "test": [
                          786.6487367
                        ]
                      },
                      {
                        "learn": [
                          781.0664825
                        ],
                        "iteration": 30,
                        "passed_time": 2.023856883,
                        "remaining_time": 63.26184903,
                        "test": [
                          772.8074966
                        ]
                      },
                      {
                        "learn": [
                          765.2728884
                        ],
                        "iteration": 31,
                        "passed_time": 2.066786544,
                        "remaining_time": 62.52029297,
                        "test": [
                          757.3127497
                        ]
                      },
                      {
                        "learn": [
                          753.1300791
                        ],
                        "iteration": 32,
                        "passed_time": 2.113712545,
                        "remaining_time": 61.93818276,
                        "test": [
                          745.3782942
                        ]
                      },
                      {
                        "learn": [
                          741.5882767
                        ],
                        "iteration": 33,
                        "passed_time": 2.151316038,
                        "remaining_time": 61.12268509,
                        "test": [
                          734.5671528
                        ]
                      },
                      {
                        "learn": [
                          732.6840967
                        ],
                        "iteration": 34,
                        "passed_time": 2.204319674,
                        "remaining_time": 60.77624243,
                        "test": [
                          725.0123891
                        ]
                      },
                      {
                        "learn": [
                          723.9004936
                        ],
                        "iteration": 35,
                        "passed_time": 2.24742662,
                        "remaining_time": 60.18109061,
                        "test": [
                          718.2488483
                        ]
                      },
                      {
                        "learn": [
                          714.6476154
                        ],
                        "iteration": 36,
                        "passed_time": 2.291989422,
                        "remaining_time": 59.65367062,
                        "test": [
                          709.1923852
                        ]
                      },
                      {
                        "learn": [
                          707.2893343
                        ],
                        "iteration": 37,
                        "passed_time": 2.334193311,
                        "remaining_time": 59.09194645,
                        "test": [
                          701.8391462
                        ]
                      },
                      {
                        "learn": [
                          701.2309894
                        ],
                        "iteration": 38,
                        "passed_time": 2.382260621,
                        "remaining_time": 58.70134503,
                        "test": [
                          696.1785704
                        ]
                      },
                      {
                        "learn": [
                          695.4064439
                        ],
                        "iteration": 39,
                        "passed_time": 2.418205126,
                        "remaining_time": 58.03692302,
                        "test": [
                          690.5508071
                        ]
                      },
                      {
                        "learn": [
                          689.4194427
                        ],
                        "iteration": 40,
                        "passed_time": 2.45213466,
                        "remaining_time": 57.35602778,
                        "test": [
                          684.062118
                        ]
                      },
                      {
                        "learn": [
                          683.8401994
                        ],
                        "iteration": 41,
                        "passed_time": 2.497002395,
                        "remaining_time": 56.95543559,
                        "test": [
                          678.8406572
                        ]
                      },
                      {
                        "learn": [
                          676.7199951
                        ],
                        "iteration": 42,
                        "passed_time": 2.555159503,
                        "remaining_time": 56.86715453,
                        "test": [
                          672.4973537
                        ]
                      },
                      {
                        "learn": [
                          672.0729115
                        ],
                        "iteration": 43,
                        "passed_time": 2.598496669,
                        "remaining_time": 56.4582458,
                        "test": [
                          668.5522982
                        ]
                      },
                      {
                        "learn": [
                          668.37835
                        ],
                        "iteration": 44,
                        "passed_time": 2.648798264,
                        "remaining_time": 56.21338538,
                        "test": [
                          665.9675126
                        ]
                      },
                      {
                        "learn": [
                          662.6214141
                        ],
                        "iteration": 45,
                        "passed_time": 2.688975973,
                        "remaining_time": 55.76702344,
                        "test": [
                          659.3797175
                        ]
                      },
                      {
                        "learn": [
                          657.0795045
                        ],
                        "iteration": 46,
                        "passed_time": 2.727526695,
                        "remaining_time": 55.30495618,
                        "test": [
                          653.1980754
                        ]
                      },
                      {
                        "learn": [
                          653.6518357
                        ],
                        "iteration": 47,
                        "passed_time": 2.775315399,
                        "remaining_time": 55.04375541,
                        "test": [
                          650.3653114
                        ]
                      },
                      {
                        "learn": [
                          650.5396649
                        ],
                        "iteration": 48,
                        "passed_time": 2.835343706,
                        "remaining_time": 55.02881356,
                        "test": [
                          647.8497011
                        ]
                      },
                      {
                        "learn": [
                          647.9299271
                        ],
                        "iteration": 49,
                        "passed_time": 2.900104947,
                        "remaining_time": 55.101994,
                        "test": [
                          645.8101904
                        ]
                      },
                      {
                        "learn": [
                          644.5750055
                        ],
                        "iteration": 50,
                        "passed_time": 2.954079066,
                        "remaining_time": 54.96903987,
                        "test": [
                          642.2429732
                        ]
                      },
                      {
                        "learn": [
                          641.9989241
                        ],
                        "iteration": 51,
                        "passed_time": 2.986551153,
                        "remaining_time": 54.44712486,
                        "test": [
                          640.2811145
                        ]
                      },
                      {
                        "learn": [
                          639.0708681
                        ],
                        "iteration": 52,
                        "passed_time": 3.032171192,
                        "remaining_time": 54.17860602,
                        "test": [
                          638.5986958
                        ]
                      },
                      {
                        "learn": [
                          636.4327081
                        ],
                        "iteration": 53,
                        "passed_time": 3.10156676,
                        "remaining_time": 54.33485472,
                        "test": [
                          635.3909709
                        ]
                      },
                      {
                        "learn": [
                          633.7826196
                        ],
                        "iteration": 54,
                        "passed_time": 3.154623155,
                        "remaining_time": 54.20216149,
                        "test": [
                          633.4742208
                        ]
                      },
                      {
                        "learn": [
                          631.8197941
                        ],
                        "iteration": 55,
                        "passed_time": 3.211162636,
                        "remaining_time": 54.13102729,
                        "test": [
                          632.1419694
                        ]
                      },
                      {
                        "learn": [
                          627.6950622
                        ],
                        "iteration": 56,
                        "passed_time": 3.256929994,
                        "remaining_time": 53.88219271,
                        "test": [
                          628.7486994
                        ]
                      },
                      {
                        "learn": [
                          625.9233056
                        ],
                        "iteration": 57,
                        "passed_time": 3.308692769,
                        "remaining_time": 53.73773428,
                        "test": [
                          627.3273357
                        ]
                      },
                      {
                        "learn": [
                          623.8938009
                        ],
                        "iteration": 58,
                        "passed_time": 3.362119817,
                        "remaining_time": 53.62296183,
                        "test": [
                          626.0970284
                        ]
                      },
                      {
                        "learn": [
                          621.8542819
                        ],
                        "iteration": 59,
                        "passed_time": 3.405384361,
                        "remaining_time": 53.35102166,
                        "test": [
                          624.4504984
                        ]
                      },
                      {
                        "learn": [
                          620.2930117
                        ],
                        "iteration": 60,
                        "passed_time": 3.456707835,
                        "remaining_time": 53.21063372,
                        "test": [
                          624.0007933
                        ]
                      },
                      {
                        "learn": [
                          618.6135872
                        ],
                        "iteration": 61,
                        "passed_time": 3.512752303,
                        "remaining_time": 53.1445429,
                        "test": [
                          622.9550233
                        ]
                      },
                      {
                        "learn": [
                          617.4000529
                        ],
                        "iteration": 62,
                        "passed_time": 3.584042445,
                        "remaining_time": 53.30552018,
                        "test": [
                          621.6540444
                        ]
                      },
                      {
                        "learn": [
                          614.1615632
                        ],
                        "iteration": 63,
                        "passed_time": 3.629613045,
                        "remaining_time": 53.08309078,
                        "test": [
                          618.6850937
                        ]
                      },
                      {
                        "learn": [
                          612.4962821
                        ],
                        "iteration": 64,
                        "passed_time": 3.691119985,
                        "remaining_time": 53.09534132,
                        "test": [
                          617.887349
                        ]
                      },
                      {
                        "learn": [
                          610.5659488
                        ],
                        "iteration": 65,
                        "passed_time": 3.759639742,
                        "remaining_time": 53.20459878,
                        "test": [
                          616.3994318
                        ]
                      },
                      {
                        "learn": [
                          609.5507194
                        ],
                        "iteration": 66,
                        "passed_time": 3.812322554,
                        "remaining_time": 53.08801407,
                        "test": [
                          615.576852
                        ]
                      },
                      {
                        "learn": [
                          608.5017398
                        ],
                        "iteration": 67,
                        "passed_time": 3.852945973,
                        "remaining_time": 52.80802421,
                        "test": [
                          614.9012564
                        ]
                      },
                      {
                        "learn": [
                          606.7760575
                        ],
                        "iteration": 68,
                        "passed_time": 3.900270603,
                        "remaining_time": 52.62539031,
                        "test": [
                          613.2275828
                        ]
                      },
                      {
                        "learn": [
                          605.4509425
                        ],
                        "iteration": 69,
                        "passed_time": 3.962788835,
                        "remaining_time": 52.64848024,
                        "test": [
                          612.5852887
                        ]
                      },
                      {
                        "learn": [
                          604.2802542
                        ],
                        "iteration": 70,
                        "passed_time": 3.996168325,
                        "remaining_time": 52.2878926,
                        "test": [
                          611.92835
                        ]
                      },
                      {
                        "learn": [
                          603.0377994
                        ],
                        "iteration": 71,
                        "passed_time": 4.025977986,
                        "remaining_time": 51.89038294,
                        "test": [
                          610.4426534
                        ]
                      },
                      {
                        "learn": [
                          602.0513455
                        ],
                        "iteration": 72,
                        "passed_time": 4.081126656,
                        "remaining_time": 51.82471795,
                        "test": [
                          609.5385648
                        ]
                      },
                      {
                        "learn": [
                          600.9638492
                        ],
                        "iteration": 73,
                        "passed_time": 4.15626594,
                        "remaining_time": 52.00949001,
                        "test": [
                          608.5239895
                        ]
                      },
                      {
                        "learn": [
                          599.5114184
                        ],
                        "iteration": 74,
                        "passed_time": 4.205908665,
                        "remaining_time": 51.87287354,
                        "test": [
                          607.2653067
                        ]
                      },
                      {
                        "learn": [
                          598.7152571
                        ],
                        "iteration": 75,
                        "passed_time": 4.257816785,
                        "remaining_time": 51.76608829,
                        "test": [
                          606.4524831
                        ]
                      },
                      {
                        "learn": [
                          597.3786606
                        ],
                        "iteration": 76,
                        "passed_time": 4.317923013,
                        "remaining_time": 51.75899923,
                        "test": [
                          605.5386204
                        ]
                      },
                      {
                        "learn": [
                          596.4089168
                        ],
                        "iteration": 77,
                        "passed_time": 4.413675032,
                        "remaining_time": 52.1719023,
                        "test": [
                          605.4732362
                        ]
                      },
                      {
                        "learn": [
                          595.7550127
                        ],
                        "iteration": 78,
                        "passed_time": 4.463686401,
                        "remaining_time": 52.0386731,
                        "test": [
                          604.9772763
                        ]
                      },
                      {
                        "learn": [
                          594.722535
                        ],
                        "iteration": 79,
                        "passed_time": 4.515433543,
                        "remaining_time": 51.92748574,
                        "test": [
                          604.2497856
                        ]
                      },
                      {
                        "learn": [
                          593.9441717
                        ],
                        "iteration": 80,
                        "passed_time": 4.585616225,
                        "remaining_time": 52.02692976,
                        "test": [
                          604.1650994
                        ]
                      },
                      {
                        "learn": [
                          593.0677389
                        ],
                        "iteration": 81,
                        "passed_time": 4.710854455,
                        "remaining_time": 52.73859011,
                        "test": [
                          603.8403366
                        ]
                      },
                      {
                        "learn": [
                          590.5322794
                        ],
                        "iteration": 82,
                        "passed_time": 4.755118567,
                        "remaining_time": 52.53546658,
                        "test": [
                          601.7913503
                        ]
                      },
                      {
                        "learn": [
                          589.1179898
                        ],
                        "iteration": 83,
                        "passed_time": 4.830711943,
                        "remaining_time": 52.67776357,
                        "test": [
                          600.538833
                        ]
                      },
                      {
                        "learn": [
                          588.3289651
                        ],
                        "iteration": 84,
                        "passed_time": 4.883144719,
                        "remaining_time": 52.56561668,
                        "test": [
                          599.7362781
                        ]
                      },
                      {
                        "learn": [
                          587.5673001
                        ],
                        "iteration": 85,
                        "passed_time": 4.938608018,
                        "remaining_time": 52.48706661,
                        "test": [
                          599.1610804
                        ]
                      },
                      {
                        "learn": [
                          585.4045249
                        ],
                        "iteration": 86,
                        "passed_time": 5.017891249,
                        "remaining_time": 52.65901966,
                        "test": [
                          597.3138151
                        ]
                      },
                      {
                        "learn": [
                          584.7342995
                        ],
                        "iteration": 87,
                        "passed_time": 5.107746638,
                        "remaining_time": 52.93482879,
                        "test": [
                          597.0656744
                        ]
                      },
                      {
                        "learn": [
                          584.295648
                        ],
                        "iteration": 88,
                        "passed_time": 5.204516315,
                        "remaining_time": 53.27319509,
                        "test": [
                          596.4524439
                        ]
                      },
                      {
                        "learn": [
                          584.255269
                        ],
                        "iteration": 89,
                        "passed_time": 5.266467321,
                        "remaining_time": 53.24983624,
                        "test": [
                          596.4514993
                        ]
                      },
                      {
                        "learn": [
                          583.7429361
                        ],
                        "iteration": 90,
                        "passed_time": 5.363282985,
                        "remaining_time": 53.57389267,
                        "test": [
                          595.9849868
                        ]
                      },
                      {
                        "learn": [
                          583.121743
                        ],
                        "iteration": 91,
                        "passed_time": 5.505015136,
                        "remaining_time": 54.33210591,
                        "test": [
                          595.5068675
                        ]
                      },
                      {
                        "learn": [
                          582.4551186
                        ],
                        "iteration": 92,
                        "passed_time": 5.560694826,
                        "remaining_time": 54.23172266,
                        "test": [
                          594.7580268
                        ]
                      },
                      {
                        "learn": [
                          581.6497092
                        ],
                        "iteration": 93,
                        "passed_time": 5.649105644,
                        "remaining_time": 54.44776291,
                        "test": [
                          594.0991479
                        ]
                      },
                      {
                        "learn": [
                          580.9187829
                        ],
                        "iteration": 94,
                        "passed_time": 5.743504749,
                        "remaining_time": 54.71443997,
                        "test": [
                          593.6745897
                        ]
                      },
                      {
                        "learn": [
                          580.8407305
                        ],
                        "iteration": 95,
                        "passed_time": 5.82643467,
                        "remaining_time": 54.86559315,
                        "test": [
                          593.5708509
                        ]
                      },
                      {
                        "learn": [
                          580.8135707
                        ],
                        "iteration": 96,
                        "passed_time": 5.878437114,
                        "remaining_time": 54.72400736,
                        "test": [
                          593.5711455
                        ]
                      },
                      {
                        "learn": [
                          580.0688865
                        ],
                        "iteration": 97,
                        "passed_time": 5.977483303,
                        "remaining_time": 55.01724428,
                        "test": [
                          593.1175426
                        ]
                      },
                      {
                        "learn": [
                          579.9353537
                        ],
                        "iteration": 98,
                        "passed_time": 6.073252539,
                        "remaining_time": 55.27273271,
                        "test": [
                          593.0538187
                        ]
                      },
                      {
                        "learn": [
                          579.544103
                        ],
                        "iteration": 99,
                        "passed_time": 6.208997429,
                        "remaining_time": 55.88097686,
                        "test": [
                          592.4739394
                        ]
                      },
                      {
                        "learn": [
                          578.5826163
                        ],
                        "iteration": 100,
                        "passed_time": 6.292286926,
                        "remaining_time": 56.00758363,
                        "test": [
                          592.3102338
                        ]
                      },
                      {
                        "learn": [
                          578.0773505
                        ],
                        "iteration": 101,
                        "passed_time": 6.353152017,
                        "remaining_time": 55.93265207,
                        "test": [
                          591.9950328
                        ]
                      },
                      {
                        "learn": [
                          577.7440795
                        ],
                        "iteration": 102,
                        "passed_time": 6.413455002,
                        "remaining_time": 55.85309842,
                        "test": [
                          591.9107763
                        ]
                      },
                      {
                        "learn": [
                          576.6275091
                        ],
                        "iteration": 103,
                        "passed_time": 6.509841636,
                        "remaining_time": 56.08478948,
                        "test": [
                          591.7412373
                        ]
                      },
                      {
                        "learn": [
                          576.4102317
                        ],
                        "iteration": 104,
                        "passed_time": 6.614081019,
                        "remaining_time": 56.37716678,
                        "test": [
                          591.4029155
                        ]
                      },
                      {
                        "learn": [
                          574.9142227
                        ],
                        "iteration": 105,
                        "passed_time": 6.70892203,
                        "remaining_time": 56.58279524,
                        "test": [
                          590.2617892
                        ]
                      },
                      {
                        "learn": [
                          573.9316819
                        ],
                        "iteration": 106,
                        "passed_time": 6.807796105,
                        "remaining_time": 56.81646656,
                        "test": [
                          589.6585005
                        ]
                      },
                      {
                        "learn": [
                          573.6215513
                        ],
                        "iteration": 107,
                        "passed_time": 6.915562306,
                        "remaining_time": 57.11742201,
                        "test": [
                          589.8306422
                        ]
                      },
                      {
                        "learn": [
                          572.8710786
                        ],
                        "iteration": 108,
                        "passed_time": 7.043339235,
                        "remaining_time": 57.57445191,
                        "test": [
                          589.1529646
                        ]
                      },
                      {
                        "learn": [
                          571.9799833
                        ],
                        "iteration": 109,
                        "passed_time": 7.131314084,
                        "remaining_time": 57.69881395,
                        "test": [
                          588.3890951
                        ]
                      },
                      {
                        "learn": [
                          571.4220585
                        ],
                        "iteration": 110,
                        "passed_time": 7.214952152,
                        "remaining_time": 57.78461678,
                        "test": [
                          587.5226099
                        ]
                      },
                      {
                        "learn": [
                          571.4030503
                        ],
                        "iteration": 111,
                        "passed_time": 7.278668827,
                        "remaining_time": 57.7094457,
                        "test": [
                          587.5228494
                        ]
                      },
                      {
                        "learn": [
                          570.616817
                        ],
                        "iteration": 112,
                        "passed_time": 7.344755188,
                        "remaining_time": 57.65307834,
                        "test": [
                          587.567579
                        ]
                      },
                      {
                        "learn": [
                          570.4212126
                        ],
                        "iteration": 113,
                        "passed_time": 7.441709267,
                        "remaining_time": 57.8364422,
                        "test": [
                          587.4562707
                        ]
                      },
                      {
                        "learn": [
                          570.4080571
                        ],
                        "iteration": 114,
                        "passed_time": 7.479194311,
                        "remaining_time": 57.55727796,
                        "test": [
                          587.4569147
                        ]
                      },
                      {
                        "learn": [
                          569.2140065
                        ],
                        "iteration": 115,
                        "passed_time": 7.53344484,
                        "remaining_time": 57.41004516,
                        "test": [
                          586.2981814
                        ]
                      },
                      {
                        "learn": [
                          568.0793748
                        ],
                        "iteration": 116,
                        "passed_time": 7.612290833,
                        "remaining_time": 57.45002398,
                        "test": [
                          585.8640181
                        ]
                      },
                      {
                        "learn": [
                          567.5894377
                        ],
                        "iteration": 117,
                        "passed_time": 7.747204493,
                        "remaining_time": 57.90707087,
                        "test": [
                          585.5431603
                        ]
                      },
                      {
                        "learn": [
                          566.4913404
                        ],
                        "iteration": 118,
                        "passed_time": 7.823957099,
                        "remaining_time": 57.92358155,
                        "test": [
                          585.3115517
                        ]
                      },
                      {
                        "learn": [
                          566.3899854
                        ],
                        "iteration": 119,
                        "passed_time": 7.911579212,
                        "remaining_time": 58.01824755,
                        "test": [
                          585.2185736
                        ]
                      },
                      {
                        "learn": [
                          566.1532589
                        ],
                        "iteration": 120,
                        "passed_time": 7.959438351,
                        "remaining_time": 57.82104389,
                        "test": [
                          584.902043
                        ]
                      },
                      {
                        "learn": [
                          565.6766968
                        ],
                        "iteration": 121,
                        "passed_time": 8.019426666,
                        "remaining_time": 57.71357879,
                        "test": [
                          584.7202651
                        ]
                      },
                      {
                        "learn": [
                          565.6620671
                        ],
                        "iteration": 122,
                        "passed_time": 8.052699381,
                        "remaining_time": 57.41640128,
                        "test": [
                          584.7203605
                        ]
                      },
                      {
                        "learn": [
                          564.8957558
                        ],
                        "iteration": 123,
                        "passed_time": 8.111363407,
                        "remaining_time": 57.30285762,
                        "test": [
                          584.3506608
                        ]
                      },
                      {
                        "learn": [
                          564.6448891
                        ],
                        "iteration": 124,
                        "passed_time": 8.170679423,
                        "remaining_time": 57.19475596,
                        "test": [
                          583.965066
                        ]
                      },
                      {
                        "learn": [
                          564.5372804
                        ],
                        "iteration": 125,
                        "passed_time": 8.228099206,
                        "remaining_time": 57.07427545,
                        "test": [
                          583.6970086
                        ]
                      },
                      {
                        "learn": [
                          563.6008419
                        ],
                        "iteration": 126,
                        "passed_time": 8.272288142,
                        "remaining_time": 56.86383896,
                        "test": [
                          583.1297586
                        ]
                      },
                      {
                        "learn": [
                          563.5013608
                        ],
                        "iteration": 127,
                        "passed_time": 8.303711132,
                        "remaining_time": 56.56903209,
                        "test": [
                          582.8874662
                        ]
                      },
                      {
                        "learn": [
                          562.81427
                        ],
                        "iteration": 128,
                        "passed_time": 8.370708897,
                        "remaining_time": 56.51850736,
                        "test": [
                          582.8558776
                        ]
                      },
                      {
                        "learn": [
                          562.7973971
                        ],
                        "iteration": 129,
                        "passed_time": 8.435060257,
                        "remaining_time": 56.45001864,
                        "test": [
                          582.855955
                        ]
                      },
                      {
                        "learn": [
                          562.3930683
                        ],
                        "iteration": 130,
                        "passed_time": 8.502100797,
                        "remaining_time": 56.399432,
                        "test": [
                          582.6407399
                        ]
                      },
                      {
                        "learn": [
                          562.2112082
                        ],
                        "iteration": 131,
                        "passed_time": 8.562425758,
                        "remaining_time": 56.30443604,
                        "test": [
                          582.5474794
                        ]
                      },
                      {
                        "learn": [
                          561.3022043
                        ],
                        "iteration": 132,
                        "passed_time": 8.641089286,
                        "remaining_time": 56.32950685,
                        "test": [
                          581.8898673
                        ]
                      },
                      {
                        "learn": [
                          560.4560607
                        ],
                        "iteration": 133,
                        "passed_time": 8.719877806,
                        "remaining_time": 56.35383716,
                        "test": [
                          581.0819688
                        ]
                      },
                      {
                        "learn": [
                          560.3136473
                        ],
                        "iteration": 134,
                        "passed_time": 8.877167887,
                        "remaining_time": 56.87963127,
                        "test": [
                          581.1120389
                        ]
                      },
                      {
                        "learn": [
                          559.8109382
                        ],
                        "iteration": 135,
                        "passed_time": 8.939714293,
                        "remaining_time": 56.79347904,
                        "test": [
                          580.9484099
                        ]
                      },
                      {
                        "learn": [
                          559.7244227
                        ],
                        "iteration": 136,
                        "passed_time": 9.08585354,
                        "remaining_time": 57.23424529,
                        "test": [
                          580.9441975
                        ]
                      },
                      {
                        "learn": [
                          558.9945954
                        ],
                        "iteration": 137,
                        "passed_time": 9.134946886,
                        "remaining_time": 57.06032041,
                        "test": [
                          580.6079086
                        ]
                      },
                      {
                        "learn": [
                          558.6996106
                        ],
                        "iteration": 138,
                        "passed_time": 9.212698127,
                        "remaining_time": 57.06570566,
                        "test": [
                          580.2643529
                        ]
                      },
                      {
                        "learn": [
                          558.1744343
                        ],
                        "iteration": 139,
                        "passed_time": 9.287417548,
                        "remaining_time": 57.05127922,
                        "test": [
                          580.0830997
                        ]
                      },
                      {
                        "learn": [
                          557.1229053
                        ],
                        "iteration": 140,
                        "passed_time": 9.370594218,
                        "remaining_time": 57.08752081,
                        "test": [
                          579.2351795
                        ]
                      },
                      {
                        "learn": [
                          556.7670769
                        ],
                        "iteration": 141,
                        "passed_time": 9.445794323,
                        "remaining_time": 57.07388401,
                        "test": [
                          579.0514161
                        ]
                      },
                      {
                        "learn": [
                          556.7462921
                        ],
                        "iteration": 142,
                        "passed_time": 9.540028137,
                        "remaining_time": 57.17345534,
                        "test": [
                          579.0628463
                        ]
                      },
                      {
                        "learn": [
                          556.732346
                        ],
                        "iteration": 143,
                        "passed_time": 9.575328424,
                        "remaining_time": 56.92000785,
                        "test": [
                          579.0624989
                        ]
                      },
                      {
                        "learn": [
                          555.911959
                        ],
                        "iteration": 144,
                        "passed_time": 9.637526961,
                        "remaining_time": 56.82817622,
                        "test": [
                          578.4016542
                        ]
                      },
                      {
                        "learn": [
                          555.866042
                        ],
                        "iteration": 145,
                        "passed_time": 9.687085669,
                        "remaining_time": 56.66281618,
                        "test": [
                          578.2318887
                        ]
                      },
                      {
                        "learn": [
                          555.4165436
                        ],
                        "iteration": 146,
                        "passed_time": 9.783479599,
                        "remaining_time": 56.77080339,
                        "test": [
                          577.7891947
                        ]
                      },
                      {
                        "learn": [
                          555.355177
                        ],
                        "iteration": 147,
                        "passed_time": 9.907533776,
                        "remaining_time": 57.03526201,
                        "test": [
                          577.6436893
                        ]
                      },
                      {
                        "learn": [
                          554.806496
                        ],
                        "iteration": 148,
                        "passed_time": 10.0238026,
                        "remaining_time": 57.25004034,
                        "test": [
                          577.6936718
                        ]
                      },
                      {
                        "learn": [
                          554.3727277
                        ],
                        "iteration": 149,
                        "passed_time": 10.12774143,
                        "remaining_time": 57.39053477,
                        "test": [
                          577.451728
                        ]
                      },
                      {
                        "learn": [
                          553.8641335
                        ],
                        "iteration": 150,
                        "passed_time": 10.22431568,
                        "remaining_time": 57.48638418,
                        "test": [
                          576.9595178
                        ]
                      },
                      {
                        "learn": [
                          553.8427161
                        ],
                        "iteration": 151,
                        "passed_time": 10.31741786,
                        "remaining_time": 57.56033122,
                        "test": [
                          576.9559522
                        ]
                      },
                      {
                        "learn": [
                          553.0547702
                        ],
                        "iteration": 152,
                        "passed_time": 10.38718669,
                        "remaining_time": 57.50292238,
                        "test": [
                          576.3557958
                        ]
                      },
                      {
                        "learn": [
                          552.7117524
                        ],
                        "iteration": 153,
                        "passed_time": 10.49356617,
                        "remaining_time": 57.64647391,
                        "test": [
                          575.9548615
                        ]
                      },
                      {
                        "learn": [
                          552.1944195
                        ],
                        "iteration": 154,
                        "passed_time": 10.58038625,
                        "remaining_time": 57.68017018,
                        "test": [
                          575.8247392
                        ]
                      },
                      {
                        "learn": [
                          552.1825316
                        ],
                        "iteration": 155,
                        "passed_time": 10.67748785,
                        "remaining_time": 57.76794709,
                        "test": [
                          575.8247536
                        ]
                      },
                      {
                        "learn": [
                          551.9968734
                        ],
                        "iteration": 156,
                        "passed_time": 10.81352488,
                        "remaining_time": 58.06242977,
                        "test": [
                          575.7346575
                        ]
                      },
                      {
                        "learn": [
                          551.9866941
                        ],
                        "iteration": 157,
                        "passed_time": 10.90246559,
                        "remaining_time": 58.1004812,
                        "test": [
                          575.7352871
                        ]
                      },
                      {
                        "learn": [
                          551.359652
                        ],
                        "iteration": 158,
                        "passed_time": 11.000677,
                        "remaining_time": 58.18597082,
                        "test": [
                          575.3157141
                        ]
                      },
                      {
                        "learn": [
                          550.798977
                        ],
                        "iteration": 159,
                        "passed_time": 11.20700288,
                        "remaining_time": 58.83676512,
                        "test": [
                          575.2223604
                        ]
                      },
                      {
                        "learn": [
                          550.2414172
                        ],
                        "iteration": 160,
                        "passed_time": 11.31320662,
                        "remaining_time": 58.95515747,
                        "test": [
                          574.8388685
                        ]
                      },
                      {
                        "learn": [
                          549.8012529
                        ],
                        "iteration": 161,
                        "passed_time": 11.37862151,
                        "remaining_time": 58.85978286,
                        "test": [
                          574.659967
                        ]
                      },
                      {
                        "learn": [
                          549.7915277
                        ],
                        "iteration": 162,
                        "passed_time": 11.43010142,
                        "remaining_time": 58.69322015,
                        "test": [
                          574.6578791
                        ]
                      },
                      {
                        "learn": [
                          549.4299788
                        ],
                        "iteration": 163,
                        "passed_time": 11.50060282,
                        "remaining_time": 58.62502414,
                        "test": [
                          574.5559351
                        ]
                      },
                      {
                        "learn": [
                          549.1689949
                        ],
                        "iteration": 164,
                        "passed_time": 11.56107877,
                        "remaining_time": 58.5060653,
                        "test": [
                          574.2763142
                        ]
                      },
                      {
                        "learn": [
                          549.1397992
                        ],
                        "iteration": 165,
                        "passed_time": 11.61854776,
                        "remaining_time": 58.37270382,
                        "test": [
                          574.2855105
                        ]
                      },
                      {
                        "learn": [
                          548.9096122
                        ],
                        "iteration": 166,
                        "passed_time": 11.69809739,
                        "remaining_time": 58.35038998,
                        "test": [
                          574.2101904
                        ]
                      },
                      {
                        "learn": [
                          548.3302373
                        ],
                        "iteration": 167,
                        "passed_time": 11.79593517,
                        "remaining_time": 58.41796466,
                        "test": [
                          574.132041
                        ]
                      },
                      {
                        "learn": [
                          547.6378881
                        ],
                        "iteration": 168,
                        "passed_time": 11.91031916,
                        "remaining_time": 58.56494212,
                        "test": [
                          573.5816373
                        ]
                      },
                      {
                        "learn": [
                          547.2745004
                        ],
                        "iteration": 169,
                        "passed_time": 12.10497051,
                        "remaining_time": 59.10073838,
                        "test": [
                          573.0838576
                        ]
                      },
                      {
                        "learn": [
                          546.7324819
                        ],
                        "iteration": 170,
                        "passed_time": 12.25437536,
                        "remaining_time": 59.40863843,
                        "test": [
                          572.9827936
                        ]
                      },
                      {
                        "learn": [
                          546.5596573
                        ],
                        "iteration": 171,
                        "passed_time": 12.41550144,
                        "remaining_time": 59.76764647,
                        "test": [
                          573.0617332
                        ]
                      },
                      {
                        "learn": [
                          545.9611408
                        ],
                        "iteration": 172,
                        "passed_time": 12.50930116,
                        "remaining_time": 59.79879805,
                        "test": [
                          573.1554106
                        ]
                      },
                      {
                        "learn": [
                          545.9515438
                        ],
                        "iteration": 173,
                        "passed_time": 12.57053294,
                        "remaining_time": 59.67390923,
                        "test": [
                          573.1553063
                        ]
                      },
                      {
                        "learn": [
                          545.9435815
                        ],
                        "iteration": 174,
                        "passed_time": 12.64106677,
                        "remaining_time": 59.59360049,
                        "test": [
                          573.1558509
                        ]
                      },
                      {
                        "learn": [
                          545.8163085
                        ],
                        "iteration": 175,
                        "passed_time": 12.69183969,
                        "remaining_time": 59.42088584,
                        "test": [
                          573.1691846
                        ]
                      },
                      {
                        "learn": [
                          545.5970628
                        ],
                        "iteration": 176,
                        "passed_time": 12.8409787,
                        "remaining_time": 59.70692354,
                        "test": [
                          573.08578
                        ]
                      },
                      {
                        "learn": [
                          545.1344707
                        ],
                        "iteration": 177,
                        "passed_time": 12.93153224,
                        "remaining_time": 59.71752529,
                        "test": [
                          572.8907716
                        ]
                      },
                      {
                        "learn": [
                          545.0293272
                        ],
                        "iteration": 178,
                        "passed_time": 13.01099739,
                        "remaining_time": 59.67613887,
                        "test": [
                          572.7929861
                        ]
                      },
                      {
                        "learn": [
                          544.9997142
                        ],
                        "iteration": 179,
                        "passed_time": 13.10014349,
                        "remaining_time": 59.67843147,
                        "test": [
                          572.7770605
                        ]
                      },
                      {
                        "learn": [
                          544.3855218
                        ],
                        "iteration": 180,
                        "passed_time": 13.20866401,
                        "remaining_time": 59.76738026,
                        "test": [
                          572.4889575
                        ]
                      },
                      {
                        "learn": [
                          543.9390367
                        ],
                        "iteration": 181,
                        "passed_time": 13.33164655,
                        "remaining_time": 59.91915867,
                        "test": [
                          572.3266726
                        ]
                      },
                      {
                        "learn": [
                          543.9159118
                        ],
                        "iteration": 182,
                        "passed_time": 13.41929965,
                        "remaining_time": 59.91020662,
                        "test": [
                          572.3267997
                        ]
                      },
                      {
                        "learn": [
                          543.5087365
                        ],
                        "iteration": 183,
                        "passed_time": 13.51624871,
                        "remaining_time": 59.94162471,
                        "test": [
                          572.0043045
                        ]
                      },
                      {
                        "learn": [
                          543.1491384
                        ],
                        "iteration": 184,
                        "passed_time": 13.62952213,
                        "remaining_time": 60.04357045,
                        "test": [
                          571.743336
                        ]
                      },
                      {
                        "learn": [
                          542.9543973
                        ],
                        "iteration": 185,
                        "passed_time": 13.76092904,
                        "remaining_time": 60.22256042,
                        "test": [
                          571.6624448
                        ]
                      },
                      {
                        "learn": [
                          542.7159741
                        ],
                        "iteration": 186,
                        "passed_time": 13.83700015,
                        "remaining_time": 60.15765306,
                        "test": [
                          571.6771048
                        ]
                      },
                      {
                        "learn": [
                          542.5197827
                        ],
                        "iteration": 187,
                        "passed_time": 13.9676909,
                        "remaining_time": 60.32853729,
                        "test": [
                          571.504596
                        ]
                      },
                      {
                        "learn": [
                          542.0983462
                        ],
                        "iteration": 188,
                        "passed_time": 14.02717301,
                        "remaining_time": 60.19067361,
                        "test": [
                          571.5256588
                        ]
                      },
                      {
                        "learn": [
                          541.8683065
                        ],
                        "iteration": 189,
                        "passed_time": 14.11729892,
                        "remaining_time": 60.18427434,
                        "test": [
                          571.2704556
                        ]
                      },
                      {
                        "learn": [
                          541.3558005
                        ],
                        "iteration": 190,
                        "passed_time": 14.24688049,
                        "remaining_time": 60.34411685,
                        "test": [
                          570.9399665
                        ]
                      },
                      {
                        "learn": [
                          541.0918314
                        ],
                        "iteration": 191,
                        "passed_time": 14.44389907,
                        "remaining_time": 60.78474191,
                        "test": [
                          570.8731138
                        ]
                      },
                      {
                        "learn": [
                          540.7998668
                        ],
                        "iteration": 192,
                        "passed_time": 14.61227384,
                        "remaining_time": 61.09898958,
                        "test": [
                          570.8635401
                        ]
                      },
                      {
                        "learn": [
                          540.4161228
                        ],
                        "iteration": 193,
                        "passed_time": 14.76690535,
                        "remaining_time": 61.35116346,
                        "test": [
                          570.5947553
                        ]
                      },
                      {
                        "learn": [
                          539.9746904
                        ],
                        "iteration": 194,
                        "passed_time": 14.87628287,
                        "remaining_time": 61.41234722,
                        "test": [
                          570.635256
                        ]
                      },
                      {
                        "learn": [
                          539.9643116
                        ],
                        "iteration": 195,
                        "passed_time": 14.95739962,
                        "remaining_time": 61.35586375,
                        "test": [
                          570.6270068
                        ]
                      },
                      {
                        "learn": [
                          539.6577431
                        ],
                        "iteration": 196,
                        "passed_time": 15.0740161,
                        "remaining_time": 61.44383214,
                        "test": [
                          570.4761879
                        ]
                      },
                      {
                        "learn": [
                          539.651693
                        ],
                        "iteration": 197,
                        "passed_time": 15.18677055,
                        "remaining_time": 61.51409081,
                        "test": [
                          570.475093
                        ]
                      },
                      {
                        "learn": [
                          539.4913525
                        ],
                        "iteration": 198,
                        "passed_time": 15.34672552,
                        "remaining_time": 61.7724982,
                        "test": [
                          570.5940713
                        ]
                      },
                      {
                        "learn": [
                          539.3739285
                        ],
                        "iteration": 199,
                        "passed_time": 15.44118124,
                        "remaining_time": 61.76472497,
                        "test": [
                          570.5102047
                        ]
                      },
                      {
                        "learn": [
                          539.1638534
                        ],
                        "iteration": 200,
                        "passed_time": 15.61165772,
                        "remaining_time": 62.05828119,
                        "test": [
                          570.3309211
                        ]
                      },
                      {
                        "learn": [
                          539.1584358
                        ],
                        "iteration": 201,
                        "passed_time": 15.75388135,
                        "remaining_time": 62.2356303,
                        "test": [
                          570.3299459
                        ]
                      },
                      {
                        "learn": [
                          539.1118957
                        ],
                        "iteration": 202,
                        "passed_time": 15.90417314,
                        "remaining_time": 62.44150737,
                        "test": [
                          570.3524871
                        ]
                      },
                      {
                        "learn": [
                          538.4780633
                        ],
                        "iteration": 203,
                        "passed_time": 16.0748494,
                        "remaining_time": 62.72343196,
                        "test": [
                          570.185928
                        ]
                      },
                      {
                        "learn": [
                          538.1956461
                        ],
                        "iteration": 204,
                        "passed_time": 16.25840456,
                        "remaining_time": 63.05088596,
                        "test": [
                          570.0247058
                        ]
                      },
                      {
                        "learn": [
                          537.9437548
                        ],
                        "iteration": 205,
                        "passed_time": 16.42947981,
                        "remaining_time": 63.32527654,
                        "test": [
                          569.8474971
                        ]
                      },
                      {
                        "learn": [
                          537.3880274
                        ],
                        "iteration": 206,
                        "passed_time": 16.6256573,
                        "remaining_time": 63.69152772,
                        "test": [
                          570.1619721
                        ]
                      },
                      {
                        "learn": [
                          537.2806733
                        ],
                        "iteration": 207,
                        "passed_time": 16.81754603,
                        "remaining_time": 64.03604065,
                        "test": [
                          570.1460342
                        ]
                      },
                      {
                        "learn": [
                          536.5424713
                        ],
                        "iteration": 208,
                        "passed_time": 16.93665674,
                        "remaining_time": 64.09997837,
                        "test": [
                          569.9897625
                        ]
                      },
                      {
                        "learn": [
                          536.3595474
                        ],
                        "iteration": 209,
                        "passed_time": 17.05910489,
                        "remaining_time": 64.17472794,
                        "test": [
                          569.8711245
                        ]
                      },
                      {
                        "learn": [
                          536.1873922
                        ],
                        "iteration": 210,
                        "passed_time": 17.23942767,
                        "remaining_time": 64.46402098,
                        "test": [
                          569.6838661
                        ]
                      },
                      {
                        "learn": [
                          535.7818519
                        ],
                        "iteration": 211,
                        "passed_time": 17.3561029,
                        "remaining_time": 64.512307,
                        "test": [
                          569.6740187
                        ]
                      },
                      {
                        "learn": [
                          535.4089645
                        ],
                        "iteration": 212,
                        "passed_time": 17.49129423,
                        "remaining_time": 64.62745801,
                        "test": [
                          569.4073696
                        ]
                      },
                      {
                        "learn": [
                          535.0988244
                        ],
                        "iteration": 213,
                        "passed_time": 17.63473776,
                        "remaining_time": 64.77057887,
                        "test": [
                          569.0807113
                        ]
                      },
                      {
                        "learn": [
                          534.4146908
                        ],
                        "iteration": 214,
                        "passed_time": 17.78812627,
                        "remaining_time": 64.94734476,
                        "test": [
                          568.9218598
                        ]
                      },
                      {
                        "learn": [
                          533.8941784
                        ],
                        "iteration": 215,
                        "passed_time": 17.92165852,
                        "remaining_time": 65.04898277,
                        "test": [
                          568.9301472
                        ]
                      },
                      {
                        "learn": [
                          533.6850245
                        ],
                        "iteration": 216,
                        "passed_time": 18.14368612,
                        "remaining_time": 65.46777066,
                        "test": [
                          568.7661966
                        ]
                      },
                      {
                        "learn": [
                          533.3061544
                        ],
                        "iteration": 217,
                        "passed_time": 18.35185015,
                        "remaining_time": 65.83094871,
                        "test": [
                          568.6480173
                        ]
                      },
                      {
                        "learn": [
                          533.2422717
                        ],
                        "iteration": 218,
                        "passed_time": 18.47068159,
                        "remaining_time": 65.87033025,
                        "test": [
                          568.5810831
                        ]
                      },
                      {
                        "learn": [
                          532.8457979
                        ],
                        "iteration": 219,
                        "passed_time": 18.56841849,
                        "remaining_time": 65.83348374,
                        "test": [
                          568.2394868
                        ]
                      },
                      {
                        "learn": [
                          532.6469969
                        ],
                        "iteration": 220,
                        "passed_time": 18.64854296,
                        "remaining_time": 65.73400437,
                        "test": [
                          568.0440632
                        ]
                      },
                      {
                        "learn": [
                          532.1699665
                        ],
                        "iteration": 221,
                        "passed_time": 18.76707619,
                        "remaining_time": 65.76930304,
                        "test": [
                          567.9562703
                        ]
                      },
                      {
                        "learn": [
                          531.8874975
                        ],
                        "iteration": 222,
                        "passed_time": 18.88025379,
                        "remaining_time": 65.78456143,
                        "test": [
                          568.1993849
                        ]
                      },
                      {
                        "learn": [
                          531.2409589
                        ],
                        "iteration": 223,
                        "passed_time": 18.9964143,
                        "remaining_time": 65.80900667,
                        "test": [
                          567.6762857
                        ]
                      },
                      {
                        "learn": [
                          531.0222431
                        ],
                        "iteration": 224,
                        "passed_time": 19.07079669,
                        "remaining_time": 65.6882997,
                        "test": [
                          567.5607947
                        ]
                      },
                      {
                        "learn": [
                          530.6887216
                        ],
                        "iteration": 225,
                        "passed_time": 19.12860411,
                        "remaining_time": 65.51123708,
                        "test": [
                          567.2790053
                        ]
                      },
                      {
                        "learn": [
                          530.6659682
                        ],
                        "iteration": 226,
                        "passed_time": 19.19191021,
                        "remaining_time": 65.35394975,
                        "test": [
                          567.2845861
                        ]
                      },
                      {
                        "learn": [
                          530.2517863
                        ],
                        "iteration": 227,
                        "passed_time": 19.24913482,
                        "remaining_time": 65.1768951,
                        "test": [
                          567.0589088
                        ]
                      },
                      {
                        "learn": [
                          530.0874224
                        ],
                        "iteration": 228,
                        "passed_time": 19.35923859,
                        "remaining_time": 65.17892118,
                        "test": [
                          567.032684
                        ]
                      },
                      {
                        "learn": [
                          529.3571771
                        ],
                        "iteration": 229,
                        "passed_time": 19.4069845,
                        "remaining_time": 64.97120899,
                        "test": [
                          566.9242204
                        ]
                      },
                      {
                        "learn": [
                          529.3171065
                        ],
                        "iteration": 230,
                        "passed_time": 19.46505207,
                        "remaining_time": 64.7992426,
                        "test": [
                          566.9086204
                        ]
                      },
                      {
                        "learn": [
                          529.11886
                        ],
                        "iteration": 231,
                        "passed_time": 19.53314344,
                        "remaining_time": 64.66144036,
                        "test": [
                          566.7443913
                        ]
                      },
                      {
                        "learn": [
                          528.7560632
                        ],
                        "iteration": 232,
                        "passed_time": 19.58773667,
                        "remaining_time": 64.47980269,
                        "test": [
                          566.691298
                        ]
                      },
                      {
                        "learn": [
                          528.7480306
                        ],
                        "iteration": 233,
                        "passed_time": 19.63337501,
                        "remaining_time": 64.26993701,
                        "test": [
                          566.6855909
                        ]
                      },
                      {
                        "learn": [
                          528.3855382
                        ],
                        "iteration": 234,
                        "passed_time": 19.70544257,
                        "remaining_time": 64.14750454,
                        "test": [
                          566.5871641
                        ]
                      },
                      {
                        "learn": [
                          528.1748694
                        ],
                        "iteration": 235,
                        "passed_time": 19.76509719,
                        "remaining_time": 63.98531463,
                        "test": [
                          566.5056246
                        ]
                      },
                      {
                        "learn": [
                          527.8977399
                        ],
                        "iteration": 236,
                        "passed_time": 19.81578261,
                        "remaining_time": 63.79511449,
                        "test": [
                          566.4450642
                        ]
                      },
                      {
                        "learn": [
                          527.7147833
                        ],
                        "iteration": 237,
                        "passed_time": 19.87532209,
                        "remaining_time": 63.6344346,
                        "test": [
                          566.4573487
                        ]
                      },
                      {
                        "learn": [
                          527.4617322
                        ],
                        "iteration": 238,
                        "passed_time": 19.92104477,
                        "remaining_time": 63.43060699,
                        "test": [
                          566.5273219
                        ]
                      },
                      {
                        "learn": [
                          527.2333505
                        ],
                        "iteration": 239,
                        "passed_time": 19.98954464,
                        "remaining_time": 63.30022469,
                        "test": [
                          566.2169934
                        ]
                      },
                      {
                        "learn": [
                          526.7301578
                        ],
                        "iteration": 240,
                        "passed_time": 20.05220982,
                        "remaining_time": 63.1519803,
                        "test": [
                          566.238689
                        ]
                      },
                      {
                        "learn": [
                          526.4037782
                        ],
                        "iteration": 241,
                        "passed_time": 20.13893435,
                        "remaining_time": 63.07980265,
                        "test": [
                          566.1585581
                        ]
                      },
                      {
                        "learn": [
                          526.1164362
                        ],
                        "iteration": 242,
                        "passed_time": 20.20760243,
                        "remaining_time": 62.95125529,
                        "test": [
                          565.9941455
                        ]
                      },
                      {
                        "learn": [
                          525.5411601
                        ],
                        "iteration": 243,
                        "passed_time": 20.26796529,
                        "remaining_time": 62.79746623,
                        "test": [
                          565.7572784
                        ]
                      },
                      {
                        "learn": [
                          525.0473499
                        ],
                        "iteration": 244,
                        "passed_time": 20.34380175,
                        "remaining_time": 62.69212375,
                        "test": [
                          566.0833689
                        ]
                      },
                      {
                        "learn": [
                          524.7587398
                        ],
                        "iteration": 245,
                        "passed_time": 20.39343707,
                        "remaining_time": 62.50671362,
                        "test": [
                          566.0406144
                        ]
                      },
                      {
                        "learn": [
                          523.9985799
                        ],
                        "iteration": 246,
                        "passed_time": 20.44028702,
                        "remaining_time": 62.31391144,
                        "test": [
                          565.8300894
                        ]
                      },
                      {
                        "learn": [
                          523.7063582
                        ],
                        "iteration": 247,
                        "passed_time": 20.51438834,
                        "remaining_time": 62.20491947,
                        "test": [
                          565.7581934
                        ]
                      },
                      {
                        "learn": [
                          523.6839553
                        ],
                        "iteration": 248,
                        "passed_time": 20.56229431,
                        "remaining_time": 62.0172009,
                        "test": [
                          565.7660286
                        ]
                      },
                      {
                        "learn": [
                          523.5357087
                        ],
                        "iteration": 249,
                        "passed_time": 20.63523559,
                        "remaining_time": 61.90570678,
                        "test": [
                          565.5009634
                        ]
                      },
                      {
                        "learn": [
                          523.3243005
                        ],
                        "iteration": 250,
                        "passed_time": 20.70863519,
                        "remaining_time": 61.79588748,
                        "test": [
                          565.447933
                        ]
                      },
                      {
                        "learn": [
                          523.0689206
                        ],
                        "iteration": 251,
                        "passed_time": 20.78623413,
                        "remaining_time": 61.69882195,
                        "test": [
                          565.2301518
                        ]
                      },
                      {
                        "learn": [
                          523.0624723
                        ],
                        "iteration": 252,
                        "passed_time": 20.8548763,
                        "remaining_time": 61.57546482,
                        "test": [
                          565.2231267
                        ]
                      },
                      {
                        "learn": [
                          522.6705983
                        ],
                        "iteration": 253,
                        "passed_time": 20.90381057,
                        "remaining_time": 61.39465625,
                        "test": [
                          564.7136078
                        ]
                      },
                      {
                        "learn": [
                          522.5134739
                        ],
                        "iteration": 254,
                        "passed_time": 20.97089242,
                        "remaining_time": 61.26790139,
                        "test": [
                          564.6771363
                        ]
                      },
                      {
                        "learn": [
                          522.5071455
                        ],
                        "iteration": 255,
                        "passed_time": 21.02222783,
                        "remaining_time": 61.09584962,
                        "test": [
                          564.6716072
                        ]
                      },
                      {
                        "learn": [
                          522.2774326
                        ],
                        "iteration": 256,
                        "passed_time": 21.1088875,
                        "remaining_time": 61.02686152,
                        "test": [
                          564.4646261
                        ]
                      },
                      {
                        "learn": [
                          521.9701702
                        ],
                        "iteration": 257,
                        "passed_time": 21.15989033,
                        "remaining_time": 60.85518848,
                        "test": [
                          564.127768
                        ]
                      },
                      {
                        "learn": [
                          521.7039296
                        ],
                        "iteration": 258,
                        "passed_time": 21.22379062,
                        "remaining_time": 60.72134691,
                        "test": [
                          564.0190269
                        ]
                      },
                      {
                        "learn": [
                          521.5955793
                        ],
                        "iteration": 259,
                        "passed_time": 21.2818388,
                        "remaining_time": 60.57138736,
                        "test": [
                          564.0528197
                        ]
                      },
                      {
                        "learn": [
                          521.4017872
                        ],
                        "iteration": 260,
                        "passed_time": 21.36118378,
                        "remaining_time": 60.48243223,
                        "test": [
                          564.0647856
                        ]
                      },
                      {
                        "learn": [
                          521.2139893
                        ],
                        "iteration": 261,
                        "passed_time": 21.42614689,
                        "remaining_time": 60.35303972,
                        "test": [
                          563.8230693
                        ]
                      },
                      {
                        "learn": [
                          520.8235293
                        ],
                        "iteration": 262,
                        "passed_time": 21.46141232,
                        "remaining_time": 60.14091589,
                        "test": [
                          563.6753502
                        ]
                      },
                      {
                        "learn": [
                          520.5798173
                        ],
                        "iteration": 263,
                        "passed_time": 21.51202943,
                        "remaining_time": 59.97293052,
                        "test": [
                          563.5454126
                        ]
                      },
                      {
                        "learn": [
                          520.3652258
                        ],
                        "iteration": 264,
                        "passed_time": 21.56844169,
                        "remaining_time": 59.82190432,
                        "test": [
                          563.4898796
                        ]
                      },
                      {
                        "learn": [
                          520.3602906
                        ],
                        "iteration": 265,
                        "passed_time": 21.61667397,
                        "remaining_time": 59.64901764,
                        "test": [
                          563.4844497
                        ]
                      },
                      {
                        "learn": [
                          519.901105
                        ],
                        "iteration": 266,
                        "passed_time": 21.64883537,
                        "remaining_time": 59.43294503,
                        "test": [
                          563.3712964
                        ]
                      },
                      {
                        "learn": [
                          519.4315378
                        ],
                        "iteration": 267,
                        "passed_time": 21.70802807,
                        "remaining_time": 59.29207668,
                        "test": [
                          563.2041595
                        ]
                      },
                      {
                        "learn": [
                          519.0234882
                        ],
                        "iteration": 268,
                        "passed_time": 21.78883114,
                        "remaining_time": 59.21054112,
                        "test": [
                          562.9174202
                        ]
                      },
                      {
                        "learn": [
                          519.0180435
                        ],
                        "iteration": 269,
                        "passed_time": 21.86477622,
                        "remaining_time": 59.11587645,
                        "test": [
                          562.9133299
                        ]
                      },
                      {
                        "learn": [
                          518.7670503
                        ],
                        "iteration": 270,
                        "passed_time": 21.93676378,
                        "remaining_time": 59.01070404,
                        "test": [
                          562.640119
                        ]
                      },
                      {
                        "learn": [
                          518.5655497
                        ],
                        "iteration": 271,
                        "passed_time": 21.98916488,
                        "remaining_time": 58.85335307,
                        "test": [
                          562.5123404
                        ]
                      },
                      {
                        "learn": [
                          518.0166255
                        ],
                        "iteration": 272,
                        "passed_time": 22.03779307,
                        "remaining_time": 58.68672366,
                        "test": [
                          562.1963464
                        ]
                      },
                      {
                        "learn": [
                          517.8796553
                        ],
                        "iteration": 273,
                        "passed_time": 22.12034354,
                        "remaining_time": 58.61083726,
                        "test": [
                          562.1580178
                        ]
                      },
                      {
                        "learn": [
                          517.6093843
                        ],
                        "iteration": 274,
                        "passed_time": 22.15677121,
                        "remaining_time": 58.41330592,
                        "test": [
                          561.9897574
                        ]
                      },
                      {
                        "learn": [
                          517.3200322
                        ],
                        "iteration": 275,
                        "passed_time": 22.18826576,
                        "remaining_time": 58.20400147,
                        "test": [
                          561.7039484
                        ]
                      },
                      {
                        "learn": [
                          517.1228816
                        ],
                        "iteration": 276,
                        "passed_time": 22.23423338,
                        "remaining_time": 58.03375717,
                        "test": [
                          561.5567192
                        ]
                      },
                      {
                        "learn": [
                          516.8194654
                        ],
                        "iteration": 277,
                        "passed_time": 22.28988637,
                        "remaining_time": 57.88956101,
                        "test": [
                          561.7697657
                        ]
                      },
                      {
                        "learn": [
                          516.8148914
                        ],
                        "iteration": 278,
                        "passed_time": 22.36467347,
                        "remaining_time": 57.79544649,
                        "test": [
                          561.7698146
                        ]
                      },
                      {
                        "learn": [
                          516.3363923
                        ],
                        "iteration": 279,
                        "passed_time": 22.41404291,
                        "remaining_time": 57.63611034,
                        "test": [
                          561.5242114
                        ]
                      },
                      {
                        "learn": [
                          516.238489
                        ],
                        "iteration": 280,
                        "passed_time": 22.47864295,
                        "remaining_time": 57.51652769,
                        "test": [
                          561.4150478
                        ]
                      },
                      {
                        "learn": [
                          515.5747569
                        ],
                        "iteration": 281,
                        "passed_time": 22.51674201,
                        "remaining_time": 57.32986087,
                        "test": [
                          561.198217
                        ]
                      },
                      {
                        "learn": [
                          515.1548517
                        ],
                        "iteration": 282,
                        "passed_time": 22.56868719,
                        "remaining_time": 57.17932409,
                        "test": [
                          560.6334681
                        ]
                      },
                      {
                        "learn": [
                          515.1312806
                        ],
                        "iteration": 283,
                        "passed_time": 22.6304411,
                        "remaining_time": 57.05421066,
                        "test": [
                          560.6107863
                        ]
                      },
                      {
                        "learn": [
                          514.9609343
                        ],
                        "iteration": 284,
                        "passed_time": 22.70821745,
                        "remaining_time": 56.96973852,
                        "test": [
                          560.6261232
                        ]
                      },
                      {
                        "learn": [
                          514.6331281
                        ],
                        "iteration": 285,
                        "passed_time": 22.76434952,
                        "remaining_time": 56.83127818,
                        "test": [
                          560.536451
                        ]
                      },
                      {
                        "learn": [
                          514.2946646
                        ],
                        "iteration": 286,
                        "passed_time": 22.82467801,
                        "remaining_time": 56.7038168,
                        "test": [
                          560.6327016
                        ]
                      },
                      {
                        "learn": [
                          513.9990915
                        ],
                        "iteration": 287,
                        "passed_time": 22.89684376,
                        "remaining_time": 56.60608596,
                        "test": [
                          560.3895213
                        ]
                      },
                      {
                        "learn": [
                          513.7843528
                        ],
                        "iteration": 288,
                        "passed_time": 22.95760762,
                        "remaining_time": 56.48048102,
                        "test": [
                          560.3639153
                        ]
                      },
                      {
                        "learn": [
                          513.5366055
                        ],
                        "iteration": 289,
                        "passed_time": 23.00808637,
                        "remaining_time": 56.33014248,
                        "test": [
                          560.344992
                        ]
                      },
                      {
                        "learn": [
                          513.3697826
                        ],
                        "iteration": 290,
                        "passed_time": 23.0435287,
                        "remaining_time": 56.14385515,
                        "test": [
                          560.4518148
                        ]
                      },
                      {
                        "learn": [
                          513.3318894
                        ],
                        "iteration": 291,
                        "passed_time": 23.1063182,
                        "remaining_time": 56.02490851,
                        "test": [
                          560.4351964
                        ]
                      },
                      {
                        "learn": [
                          513.2710779
                        ],
                        "iteration": 292,
                        "passed_time": 23.16452687,
                        "remaining_time": 55.89529181,
                        "test": [
                          560.422941
                        ]
                      },
                      {
                        "learn": [
                          513.0097986
                        ],
                        "iteration": 293,
                        "passed_time": 23.23833325,
                        "remaining_time": 55.80361657,
                        "test": [
                          560.4212906
                        ]
                      },
                      {
                        "learn": [
                          512.9036247
                        ],
                        "iteration": 294,
                        "passed_time": 23.29935502,
                        "remaining_time": 55.68150945,
                        "test": [
                          560.3606347
                        ]
                      },
                      {
                        "learn": [
                          512.7330567
                        ],
                        "iteration": 295,
                        "passed_time": 23.41453274,
                        "remaining_time": 55.68861842,
                        "test": [
                          560.33575
                        ]
                      },
                      {
                        "learn": [
                          512.7299257
                        ],
                        "iteration": 296,
                        "passed_time": 23.47244352,
                        "remaining_time": 55.55935285,
                        "test": [
                          560.3356565
                        ]
                      },
                      {
                        "learn": [
                          512.3405029
                        ],
                        "iteration": 297,
                        "passed_time": 23.54606587,
                        "remaining_time": 55.46757798,
                        "test": [
                          560.1185535
                        ]
                      },
                      {
                        "learn": [
                          512.1203715
                        ],
                        "iteration": 298,
                        "passed_time": 23.59091785,
                        "remaining_time": 55.30847296,
                        "test": [
                          560.0327688
                        ]
                      },
                      {
                        "learn": [
                          511.9844833
                        ],
                        "iteration": 299,
                        "passed_time": 23.65282314,
                        "remaining_time": 55.18992065,
                        "test": [
                          559.8929653
                        ]
                      },
                      {
                        "learn": [
                          511.8675037
                        ],
                        "iteration": 300,
                        "passed_time": 23.71080733,
                        "remaining_time": 55.06263895,
                        "test": [
                          559.9791109
                        ]
                      },
                      {
                        "learn": [
                          511.7475605
                        ],
                        "iteration": 301,
                        "passed_time": 23.76234575,
                        "remaining_time": 54.92091832,
                        "test": [
                          559.8549054
                        ]
                      },
                      {
                        "learn": [
                          511.2164719
                        ],
                        "iteration": 302,
                        "passed_time": 23.79768223,
                        "remaining_time": 54.74252314,
                        "test": [
                          559.7583733
                        ]
                      },
                      {
                        "learn": [
                          510.8136151
                        ],
                        "iteration": 303,
                        "passed_time": 23.85963122,
                        "remaining_time": 54.6259978,
                        "test": [
                          559.7563538
                        ]
                      },
                      {
                        "learn": [
                          510.5635417
                        ],
                        "iteration": 304,
                        "passed_time": 23.90770956,
                        "remaining_time": 54.47822343,
                        "test": [
                          559.5590232
                        ]
                      },
                      {
                        "learn": [
                          510.4249828
                        ],
                        "iteration": 305,
                        "passed_time": 23.98489231,
                        "remaining_time": 54.39710871,
                        "test": [
                          559.4648608
                        ]
                      },
                      {
                        "learn": [
                          510.2456611
                        ],
                        "iteration": 306,
                        "passed_time": 24.06414494,
                        "remaining_time": 54.32069199,
                        "test": [
                          559.4455091
                        ]
                      },
                      {
                        "learn": [
                          510.0016106
                        ],
                        "iteration": 307,
                        "passed_time": 24.11694917,
                        "remaining_time": 54.18483385,
                        "test": [
                          559.2084775
                        ]
                      },
                      {
                        "learn": [
                          509.9511442
                        ],
                        "iteration": 308,
                        "passed_time": 24.14960029,
                        "remaining_time": 54.00444595,
                        "test": [
                          559.1632129
                        ]
                      },
                      {
                        "learn": [
                          509.8765438
                        ],
                        "iteration": 309,
                        "passed_time": 24.19891697,
                        "remaining_time": 53.86210551,
                        "test": [
                          559.0683371
                        ]
                      },
                      {
                        "learn": [
                          509.6113817
                        ],
                        "iteration": 310,
                        "passed_time": 24.29101625,
                        "remaining_time": 53.81514532,
                        "test": [
                          558.9752192
                        ]
                      },
                      {
                        "learn": [
                          509.4621345
                        ],
                        "iteration": 311,
                        "passed_time": 24.36455312,
                        "remaining_time": 53.7269633,
                        "test": [
                          558.9136077
                        ]
                      },
                      {
                        "learn": [
                          509.4568725
                        ],
                        "iteration": 312,
                        "passed_time": 24.43031572,
                        "remaining_time": 53.62181119,
                        "test": [
                          558.9134323
                        ]
                      },
                      {
                        "learn": [
                          509.1716108
                        ],
                        "iteration": 313,
                        "passed_time": 24.45427518,
                        "remaining_time": 53.42558208,
                        "test": [
                          558.7847727
                        ]
                      },
                      {
                        "learn": [
                          509.0502749
                        ],
                        "iteration": 314,
                        "passed_time": 24.48454092,
                        "remaining_time": 53.24416041,
                        "test": [
                          558.7672183
                        ]
                      },
                      {
                        "learn": [
                          508.6008727
                        ],
                        "iteration": 315,
                        "passed_time": 24.50723012,
                        "remaining_time": 53.04729558,
                        "test": [
                          558.6242855
                        ]
                      },
                      {
                        "learn": [
                          508.4193068
                        ],
                        "iteration": 316,
                        "passed_time": 24.53285757,
                        "remaining_time": 52.85786031,
                        "test": [
                          558.611303
                        ]
                      },
                      {
                        "learn": [
                          507.9737263
                        ],
                        "iteration": 317,
                        "passed_time": 24.55587678,
                        "remaining_time": 52.66386153,
                        "test": [
                          558.4775344
                        ]
                      },
                      {
                        "learn": [
                          507.7589777
                        ],
                        "iteration": 318,
                        "passed_time": 24.59006525,
                        "remaining_time": 52.49477879,
                        "test": [
                          558.3064159
                        ]
                      },
                      {
                        "learn": [
                          507.5810344
                        ],
                        "iteration": 319,
                        "passed_time": 24.61743471,
                        "remaining_time": 52.31204875,
                        "test": [
                          558.194545
                        ]
                      },
                      {
                        "learn": [
                          507.5498563
                        ],
                        "iteration": 320,
                        "passed_time": 24.63569777,
                        "remaining_time": 52.11102426,
                        "test": [
                          558.1839314
                        ]
                      },
                      {
                        "learn": [
                          507.3638198
                        ],
                        "iteration": 321,
                        "passed_time": 24.66023541,
                        "remaining_time": 51.9243466,
                        "test": [
                          558.1682281
                        ]
                      },
                      {
                        "learn": [
                          507.2211896
                        ],
                        "iteration": 322,
                        "passed_time": 24.68883917,
                        "remaining_time": 51.74719541,
                        "test": [
                          558.2299894
                        ]
                      },
                      {
                        "learn": [
                          507.1709639
                        ],
                        "iteration": 323,
                        "passed_time": 24.71127225,
                        "remaining_time": 51.55808654,
                        "test": [
                          558.1659924
                        ]
                      },
                      {
                        "learn": [
                          506.8992562
                        ],
                        "iteration": 324,
                        "passed_time": 24.7295525,
                        "remaining_time": 51.36137827,
                        "test": [
                          558.1703153
                        ]
                      },
                      {
                        "learn": [
                          506.6310198
                        ],
                        "iteration": 325,
                        "passed_time": 24.76143737,
                        "remaining_time": 51.19389199,
                        "test": [
                          558.2538855
                        ]
                      },
                      {
                        "learn": [
                          506.3663598
                        ],
                        "iteration": 326,
                        "passed_time": 24.7834206,
                        "remaining_time": 51.00685646,
                        "test": [
                          558.2191193
                        ]
                      },
                      {
                        "learn": [
                          506.0769603
                        ],
                        "iteration": 327,
                        "passed_time": 24.81035703,
                        "remaining_time": 50.83097539,
                        "test": [
                          558.105743
                        ]
                      },
                      {
                        "learn": [
                          505.9122019
                        ],
                        "iteration": 328,
                        "passed_time": 24.83581065,
                        "remaining_time": 50.65297551,
                        "test": [
                          557.8914161
                        ]
                      },
                      {
                        "learn": [
                          505.7546049
                        ],
                        "iteration": 329,
                        "passed_time": 24.86877225,
                        "remaining_time": 50.49114366,
                        "test": [
                          557.9273786
                        ]
                      },
                      {
                        "learn": [
                          505.549864
                        ],
                        "iteration": 330,
                        "passed_time": 24.89751983,
                        "remaining_time": 50.32157331,
                        "test": [
                          557.687841
                        ]
                      },
                      {
                        "learn": [
                          505.3538321
                        ],
                        "iteration": 331,
                        "passed_time": 24.91789411,
                        "remaining_time": 50.13600381,
                        "test": [
                          557.578594
                        ]
                      },
                      {
                        "learn": [
                          505.1334778
                        ],
                        "iteration": 332,
                        "passed_time": 24.94256286,
                        "remaining_time": 49.96002832,
                        "test": [
                          557.3122671
                        ]
                      },
                      {
                        "learn": [
                          504.9226651
                        ],
                        "iteration": 333,
                        "passed_time": 24.96258447,
                        "remaining_time": 49.77569239,
                        "test": [
                          557.127828
                        ]
                      },
                      {
                        "learn": [
                          504.4960406
                        ],
                        "iteration": 334,
                        "passed_time": 24.98643876,
                        "remaining_time": 49.5999456,
                        "test": [
                          557.0374404
                        ]
                      },
                      {
                        "learn": [
                          504.3146824
                        ],
                        "iteration": 335,
                        "passed_time": 25.00932761,
                        "remaining_time": 49.42319504,
                        "test": [
                          557.0770899
                        ]
                      },
                      {
                        "learn": [
                          504.3058671
                        ],
                        "iteration": 336,
                        "passed_time": 25.03560768,
                        "remaining_time": 49.25402935,
                        "test": [
                          557.0798706
                        ]
                      },
                      {
                        "learn": [
                          504.0316389
                        ],
                        "iteration": 337,
                        "passed_time": 25.05670118,
                        "remaining_time": 49.07555083,
                        "test": [
                          557.1832542
                        ]
                      },
                      {
                        "learn": [
                          503.8203975
                        ],
                        "iteration": 338,
                        "passed_time": 25.07881263,
                        "remaining_time": 48.89998569,
                        "test": [
                          556.8751212
                        ]
                      },
                      {
                        "learn": [
                          503.7673781
                        ],
                        "iteration": 339,
                        "passed_time": 25.10344207,
                        "remaining_time": 48.73021107,
                        "test": [
                          556.8843328
                        ]
                      },
                      {
                        "learn": [
                          503.7657742
                        ],
                        "iteration": 340,
                        "passed_time": 25.1266738,
                        "remaining_time": 48.55858661,
                        "test": [
                          556.8840468
                        ]
                      },
                      {
                        "learn": [
                          503.6792137
                        ],
                        "iteration": 341,
                        "passed_time": 25.15087876,
                        "remaining_time": 48.38970241,
                        "test": [
                          556.9239697
                        ]
                      },
                      {
                        "learn": [
                          503.3754443
                        ],
                        "iteration": 342,
                        "passed_time": 25.17740225,
                        "remaining_time": 48.22610285,
                        "test": [
                          556.8368157
                        ]
                      },
                      {
                        "learn": [
                          503.3734633
                        ],
                        "iteration": 343,
                        "passed_time": 25.19401384,
                        "remaining_time": 48.04439849,
                        "test": [
                          556.8368357
                        ]
                      },
                      {
                        "learn": [
                          503.1559849
                        ],
                        "iteration": 344,
                        "passed_time": 25.21804338,
                        "remaining_time": 47.87773454,
                        "test": [
                          556.6753985
                        ]
                      },
                      {
                        "learn": [
                          503.0588074
                        ],
                        "iteration": 345,
                        "passed_time": 25.24774885,
                        "remaining_time": 47.72262355,
                        "test": [
                          556.576704
                        ]
                      },
                      {
                        "learn": [
                          502.7159557
                        ],
                        "iteration": 346,
                        "passed_time": 25.2804523,
                        "remaining_time": 47.5738771,
                        "test": [
                          556.5433449
                        ]
                      },
                      {
                        "learn": [
                          502.5299889
                        ],
                        "iteration": 347,
                        "passed_time": 25.31113358,
                        "remaining_time": 47.4220089,
                        "test": [
                          556.3929487
                        ]
                      },
                      {
                        "learn": [
                          502.4723247
                        ],
                        "iteration": 348,
                        "passed_time": 25.33931922,
                        "remaining_time": 47.26617997,
                        "test": [
                          556.3468428
                        ]
                      },
                      {
                        "learn": [
                          502.2624587
                        ],
                        "iteration": 349,
                        "passed_time": 25.37355359,
                        "remaining_time": 47.12231382,
                        "test": [
                          556.3036001
                        ]
                      },
                      {
                        "learn": [
                          502.1224981
                        ],
                        "iteration": 350,
                        "passed_time": 25.42988592,
                        "remaining_time": 47.01993151,
                        "test": [
                          556.2576145
                        ]
                      },
                      {
                        "learn": [
                          501.8988747
                        ],
                        "iteration": 351,
                        "passed_time": 25.45656175,
                        "remaining_time": 46.86321595,
                        "test": [
                          556.162921
                        ]
                      },
                      {
                        "learn": [
                          501.711902
                        ],
                        "iteration": 352,
                        "passed_time": 25.48262789,
                        "remaining_time": 46.70611968,
                        "test": [
                          556.1178144
                        ]
                      },
                      {
                        "learn": [
                          501.7098833
                        ],
                        "iteration": 353,
                        "passed_time": 25.50435964,
                        "remaining_time": 46.54185403,
                        "test": [
                          556.117524
                        ]
                      },
                      {
                        "learn": [
                          501.6292008
                        ],
                        "iteration": 354,
                        "passed_time": 25.53005385,
                        "remaining_time": 46.3855908,
                        "test": [
                          556.2374335
                        ]
                      },
                      {
                        "learn": [
                          501.2840782
                        ],
                        "iteration": 355,
                        "passed_time": 25.55525696,
                        "remaining_time": 46.2291727,
                        "test": [
                          555.9823604
                        ]
                      },
                      {
                        "learn": [
                          501.1931971
                        ],
                        "iteration": 356,
                        "passed_time": 25.57965163,
                        "remaining_time": 46.0720336,
                        "test": [
                          555.9490128
                        ]
                      },
                      {
                        "learn": [
                          501.0445345
                        ],
                        "iteration": 357,
                        "passed_time": 25.6038256,
                        "remaining_time": 45.91524032,
                        "test": [
                          555.859669
                        ]
                      },
                      {
                        "learn": [
                          500.9130251
                        ],
                        "iteration": 358,
                        "passed_time": 25.62451634,
                        "remaining_time": 45.7529665,
                        "test": [
                          555.8125381
                        ]
                      },
                      {
                        "learn": [
                          500.6411669
                        ],
                        "iteration": 359,
                        "passed_time": 25.64975089,
                        "remaining_time": 45.59955714,
                        "test": [
                          555.812597
                        ]
                      },
                      {
                        "learn": [
                          500.4348134
                        ],
                        "iteration": 360,
                        "passed_time": 25.66478985,
                        "remaining_time": 45.42881085,
                        "test": [
                          555.7542283
                        ]
                      },
                      {
                        "learn": [
                          500.2687898
                        ],
                        "iteration": 361,
                        "passed_time": 25.68984357,
                        "remaining_time": 45.27657514,
                        "test": [
                          555.8669753
                        ]
                      },
                      {
                        "learn": [
                          500.0306821
                        ],
                        "iteration": 362,
                        "passed_time": 25.71635844,
                        "remaining_time": 45.12760421,
                        "test": [
                          555.6669563
                        ]
                      },
                      {
                        "learn": [
                          499.8899199
                        ],
                        "iteration": 363,
                        "passed_time": 25.74509473,
                        "remaining_time": 44.9831875,
                        "test": [
                          555.7255749
                        ]
                      },
                      {
                        "learn": [
                          499.4944952
                        ],
                        "iteration": 364,
                        "passed_time": 25.77066547,
                        "remaining_time": 44.83389746,
                        "test": [
                          555.8017069
                        ]
                      },
                      {
                        "learn": [
                          499.2753081
                        ],
                        "iteration": 365,
                        "passed_time": 25.79355122,
                        "remaining_time": 44.68063244,
                        "test": [
                          555.7307766
                        ]
                      },
                      {
                        "learn": [
                          498.9515509
                        ],
                        "iteration": 366,
                        "passed_time": 25.81608029,
                        "remaining_time": 44.52746273,
                        "test": [
                          555.4691194
                        ]
                      },
                      {
                        "learn": [
                          498.545892
                        ],
                        "iteration": 367,
                        "passed_time": 25.84486738,
                        "remaining_time": 44.38575051,
                        "test": [
                          555.2813823
                        ]
                      },
                      {
                        "learn": [
                          498.4225532
                        ],
                        "iteration": 368,
                        "passed_time": 25.88003375,
                        "remaining_time": 44.25555907,
                        "test": [
                          555.2596382
                        ]
                      },
                      {
                        "learn": [
                          498.236513
                        ],
                        "iteration": 369,
                        "passed_time": 25.90833135,
                        "remaining_time": 44.11418581,
                        "test": [
                          555.1028446
                        ]
                      },
                      {
                        "learn": [
                          498.2327772
                        ],
                        "iteration": 370,
                        "passed_time": 25.92765316,
                        "remaining_time": 43.95820442,
                        "test": [
                          555.1028924
                        ]
                      },
                      {
                        "learn": [
                          498.017682
                        ],
                        "iteration": 371,
                        "passed_time": 25.9554121,
                        "remaining_time": 43.81720108,
                        "test": [
                          554.9043581
                        ]
                      },
                      {
                        "learn": [
                          497.794376
                        ],
                        "iteration": 372,
                        "passed_time": 25.97578786,
                        "remaining_time": 43.66439407,
                        "test": [
                          554.8824099
                        ]
                      },
                      {
                        "learn": [
                          497.7170911
                        ],
                        "iteration": 373,
                        "passed_time": 26.00454089,
                        "remaining_time": 43.5263171,
                        "test": [
                          554.791172
                        ]
                      },
                      {
                        "learn": [
                          497.418196
                        ],
                        "iteration": 374,
                        "passed_time": 26.03341188,
                        "remaining_time": 43.3890198,
                        "test": [
                          554.5779549
                        ]
                      },
                      {
                        "learn": [
                          497.2739009
                        ],
                        "iteration": 375,
                        "passed_time": 26.04955199,
                        "remaining_time": 43.23117138,
                        "test": [
                          554.5589504
                        ]
                      },
                      {
                        "learn": [
                          496.5750598
                        ],
                        "iteration": 376,
                        "passed_time": 26.06806147,
                        "remaining_time": 43.07799017,
                        "test": [
                          554.4150275
                        ]
                      },
                      {
                        "learn": [
                          496.3789984
                        ],
                        "iteration": 377,
                        "passed_time": 26.09201174,
                        "remaining_time": 42.93447435,
                        "test": [
                          554.3735628
                        ]
                      },
                      {
                        "learn": [
                          496.2008711
                        ],
                        "iteration": 378,
                        "passed_time": 26.11850613,
                        "remaining_time": 42.79575806,
                        "test": [
                          554.2897327
                        ]
                      },
                      {
                        "learn": [
                          496.0496525
                        ],
                        "iteration": 379,
                        "passed_time": 26.13968571,
                        "remaining_time": 42.6489609,
                        "test": [
                          554.1638148
                        ]
                      },
                      {
                        "learn": [
                          495.6484118
                        ],
                        "iteration": 380,
                        "passed_time": 26.16458201,
                        "remaining_time": 42.50886158,
                        "test": [
                          553.9639119
                        ]
                      },
                      {
                        "learn": [
                          495.530917
                        ],
                        "iteration": 381,
                        "passed_time": 26.19225262,
                        "remaining_time": 42.37385372,
                        "test": [
                          553.8931194
                        ]
                      },
                      {
                        "learn": [
                          495.3877084
                        ],
                        "iteration": 382,
                        "passed_time": 26.21835724,
                        "remaining_time": 42.23688359,
                        "test": [
                          553.5983931
                        ]
                      },
                      {
                        "learn": [
                          495.1336684
                        ],
                        "iteration": 383,
                        "passed_time": 26.2393095,
                        "remaining_time": 42.09222565,
                        "test": [
                          553.7529697
                        ]
                      },
                      {
                        "learn": [
                          495.025961
                        ],
                        "iteration": 384,
                        "passed_time": 26.26584607,
                        "remaining_time": 41.95713074,
                        "test": [
                          553.9391051
                        ]
                      },
                      {
                        "learn": [
                          494.8990713
                        ],
                        "iteration": 385,
                        "passed_time": 26.28847901,
                        "remaining_time": 41.8163889,
                        "test": [
                          553.9136268
                        ]
                      },
                      {
                        "learn": [
                          494.7608927
                        ],
                        "iteration": 386,
                        "passed_time": 26.33520834,
                        "remaining_time": 41.71442562,
                        "test": [
                          553.9820838
                        ]
                      },
                      {
                        "learn": [
                          494.5076884
                        ],
                        "iteration": 387,
                        "passed_time": 26.3561612,
                        "remaining_time": 41.57208932,
                        "test": [
                          554.0044876
                        ]
                      },
                      {
                        "learn": [
                          494.1958764
                        ],
                        "iteration": 388,
                        "passed_time": 26.37716237,
                        "remaining_time": 41.43045297,
                        "test": [
                          554.2514183
                        ]
                      },
                      {
                        "learn": [
                          493.9169059
                        ],
                        "iteration": 389,
                        "passed_time": 26.39823952,
                        "remaining_time": 41.28955412,
                        "test": [
                          554.2042284
                        ]
                      },
                      {
                        "learn": [
                          493.9152947
                        ],
                        "iteration": 390,
                        "passed_time": 26.43977484,
                        "remaining_time": 41.18113268,
                        "test": [
                          554.2045514
                        ]
                      },
                      {
                        "learn": [
                          493.5127648
                        ],
                        "iteration": 391,
                        "passed_time": 26.46648316,
                        "remaining_time": 41.05005551,
                        "test": [
                          554.0479408
                        ]
                      },
                      {
                        "learn": [
                          493.3739883
                        ],
                        "iteration": 392,
                        "passed_time": 26.49206016,
                        "remaining_time": 40.91776213,
                        "test": [
                          554.0320858
                        ]
                      },
                      {
                        "learn": [
                          493.2360653
                        ],
                        "iteration": 393,
                        "passed_time": 26.51218327,
                        "remaining_time": 40.77762199,
                        "test": [
                          553.9694517
                        ]
                      },
                      {
                        "learn": [
                          492.8678694
                        ],
                        "iteration": 394,
                        "passed_time": 26.53576136,
                        "remaining_time": 40.64338133,
                        "test": [
                          553.6077071
                        ]
                      },
                      {
                        "learn": [
                          492.6700721
                        ],
                        "iteration": 395,
                        "passed_time": 26.55889355,
                        "remaining_time": 40.50901945,
                        "test": [
                          553.7310656
                        ]
                      },
                      {
                        "learn": [
                          492.4633086
                        ],
                        "iteration": 396,
                        "passed_time": 26.58602291,
                        "remaining_time": 40.38128921,
                        "test": [
                          553.7150552
                        ]
                      },
                      {
                        "learn": [
                          492.2782213
                        ],
                        "iteration": 397,
                        "passed_time": 26.6111491,
                        "remaining_time": 40.25103457,
                        "test": [
                          553.7520198
                        ]
                      },
                      {
                        "learn": [
                          492.04679
                        ],
                        "iteration": 398,
                        "passed_time": 26.63264504,
                        "remaining_time": 40.11583877,
                        "test": [
                          553.7240538
                        ]
                      },
                      {
                        "learn": [
                          491.841355
                        ],
                        "iteration": 399,
                        "passed_time": 26.65705612,
                        "remaining_time": 39.98558418,
                        "test": [
                          553.6950935
                        ]
                      },
                      {
                        "learn": [
                          491.4667685
                        ],
                        "iteration": 400,
                        "passed_time": 26.68572121,
                        "remaining_time": 39.86221198,
                        "test": [
                          553.6050368
                        ]
                      },
                      {
                        "learn": [
                          491.4034364
                        ],
                        "iteration": 401,
                        "passed_time": 26.70694402,
                        "remaining_time": 39.72824011,
                        "test": [
                          553.6286819
                        ]
                      },
                      {
                        "learn": [
                          491.2874356
                        ],
                        "iteration": 402,
                        "passed_time": 26.72379255,
                        "remaining_time": 39.58834777,
                        "test": [
                          553.5860967
                        ]
                      },
                      {
                        "learn": [
                          491.1708576
                        ],
                        "iteration": 403,
                        "passed_time": 26.7498744,
                        "remaining_time": 39.46268599,
                        "test": [
                          553.525379
                        ]
                      },
                      {
                        "learn": [
                          490.9900502
                        ],
                        "iteration": 404,
                        "passed_time": 26.77127157,
                        "remaining_time": 39.33063355,
                        "test": [
                          553.4800968
                        ]
                      },
                      {
                        "learn": [
                          490.8460173
                        ],
                        "iteration": 405,
                        "passed_time": 26.79849309,
                        "remaining_time": 39.20764752,
                        "test": [
                          553.4933725
                        ]
                      },
                      {
                        "learn": [
                          490.6807717
                        ],
                        "iteration": 406,
                        "passed_time": 26.82483723,
                        "remaining_time": 39.08385375,
                        "test": [
                          553.4721484
                        ]
                      },
                      {
                        "learn": [
                          490.590452
                        ],
                        "iteration": 407,
                        "passed_time": 26.85268505,
                        "remaining_time": 38.96271948,
                        "test": [
                          553.5831926
                        ]
                      },
                      {
                        "learn": [
                          490.5291034
                        ],
                        "iteration": 408,
                        "passed_time": 26.87779939,
                        "remaining_time": 38.83809153,
                        "test": [
                          553.5747439
                        ]
                      },
                      {
                        "learn": [
                          490.5264881
                        ],
                        "iteration": 409,
                        "passed_time": 26.91038906,
                        "remaining_time": 38.72470621,
                        "test": [
                          553.5713415
                        ]
                      },
                      {
                        "learn": [
                          490.3687228
                        ],
                        "iteration": 410,
                        "passed_time": 26.93447825,
                        "remaining_time": 38.59953209,
                        "test": [
                          553.4878631
                        ]
                      },
                      {
                        "learn": [
                          490.2044162
                        ],
                        "iteration": 411,
                        "passed_time": 26.95795705,
                        "remaining_time": 38.47397753,
                        "test": [
                          553.4014966
                        ]
                      },
                      {
                        "learn": [
                          490.0305785
                        ],
                        "iteration": 412,
                        "passed_time": 26.97662653,
                        "remaining_time": 38.34208178,
                        "test": [
                          553.4375127
                        ]
                      },
                      {
                        "learn": [
                          489.7382156
                        ],
                        "iteration": 413,
                        "passed_time": 27.00347136,
                        "remaining_time": 38.22230487,
                        "test": [
                          553.5172774
                        ]
                      },
                      {
                        "learn": [
                          489.4573279
                        ],
                        "iteration": 414,
                        "passed_time": 27.03386218,
                        "remaining_time": 38.1079744,
                        "test": [
                          553.495999
                        ]
                      },
                      {
                        "learn": [
                          489.2752262
                        ],
                        "iteration": 415,
                        "passed_time": 27.0561757,
                        "remaining_time": 37.98270819,
                        "test": [
                          553.3730642
                        ]
                      },
                      {
                        "learn": [
                          489.0439342
                        ],
                        "iteration": 416,
                        "passed_time": 27.07757161,
                        "remaining_time": 37.85665287,
                        "test": [
                          553.3130523
                        ]
                      },
                      {
                        "learn": [
                          488.8604568
                        ],
                        "iteration": 417,
                        "passed_time": 27.10196769,
                        "remaining_time": 37.73527559,
                        "test": [
                          553.3194908
                        ]
                      },
                      {
                        "learn": [
                          488.6959542
                        ],
                        "iteration": 418,
                        "passed_time": 27.12711645,
                        "remaining_time": 37.61540491,
                        "test": [
                          553.2164276
                        ]
                      },
                      {
                        "learn": [
                          488.528677
                        ],
                        "iteration": 419,
                        "passed_time": 27.14523138,
                        "remaining_time": 37.48627191,
                        "test": [
                          553.1754278
                        ]
                      },
                      {
                        "learn": [
                          488.1828303
                        ],
                        "iteration": 420,
                        "passed_time": 27.16819511,
                        "remaining_time": 37.36433484,
                        "test": [
                          553.1409154
                        ]
                      },
                      {
                        "learn": [
                          487.975694
                        ],
                        "iteration": 421,
                        "passed_time": 27.19343102,
                        "remaining_time": 37.24597897,
                        "test": [
                          553.2370639
                        ]
                      },
                      {
                        "learn": [
                          487.8546151
                        ],
                        "iteration": 422,
                        "passed_time": 27.21652147,
                        "remaining_time": 37.12513685,
                        "test": [
                          553.1847853
                        ]
                      },
                      {
                        "learn": [
                          487.7718745
                        ],
                        "iteration": 423,
                        "passed_time": 27.23815519,
                        "remaining_time": 37.00277687,
                        "test": [
                          553.1543624
                        ]
                      },
                      {
                        "learn": [
                          487.3228337
                        ],
                        "iteration": 424,
                        "passed_time": 27.26974124,
                        "remaining_time": 36.89435579,
                        "test": [
                          553.3358798
                        ]
                      },
                      {
                        "learn": [
                          487.0127229
                        ],
                        "iteration": 425,
                        "passed_time": 27.29623501,
                        "remaining_time": 36.77943403,
                        "test": [
                          553.2898441
                        ]
                      },
                      {
                        "learn": [
                          486.673339
                        ],
                        "iteration": 426,
                        "passed_time": 27.32154981,
                        "remaining_time": 36.66334436,
                        "test": [
                          553.3726354
                        ]
                      },
                      {
                        "learn": [
                          486.3053908
                        ],
                        "iteration": 427,
                        "passed_time": 27.36588432,
                        "remaining_time": 36.57309773,
                        "test": [
                          553.4970647
                        ]
                      },
                      {
                        "learn": [
                          486.0724163
                        ],
                        "iteration": 428,
                        "passed_time": 27.39539938,
                        "remaining_time": 36.46334043,
                        "test": [
                          553.4891315
                        ]
                      },
                      {
                        "learn": [
                          485.9657871
                        ],
                        "iteration": 429,
                        "passed_time": 27.43143682,
                        "remaining_time": 36.36260229,
                        "test": [
                          553.5650547
                        ]
                      },
                      {
                        "learn": [
                          485.6365922
                        ],
                        "iteration": 430,
                        "passed_time": 27.45467747,
                        "remaining_time": 36.24527025,
                        "test": [
                          553.6458399
                        ]
                      },
                      {
                        "learn": [
                          485.3926579
                        ],
                        "iteration": 431,
                        "passed_time": 27.48339098,
                        "remaining_time": 36.13556963,
                        "test": [
                          553.5055466
                        ]
                      },
                      {
                        "learn": [
                          485.2224646
                        ],
                        "iteration": 432,
                        "passed_time": 27.51216392,
                        "remaining_time": 36.02632088,
                        "test": [
                          553.4257172
                        ]
                      },
                      {
                        "learn": [
                          485.0124307
                        ],
                        "iteration": 433,
                        "passed_time": 27.53306197,
                        "remaining_time": 35.90717298,
                        "test": [
                          553.5804911
                        ]
                      },
                      {
                        "learn": [
                          484.876765
                        ],
                        "iteration": 434,
                        "passed_time": 27.5561225,
                        "remaining_time": 35.79128554,
                        "test": [
                          553.5493059
                        ]
                      },
                      {
                        "learn": [
                          484.6324538
                        ],
                        "iteration": 435,
                        "passed_time": 27.57746763,
                        "remaining_time": 35.67360491,
                        "test": [
                          553.3248568
                        ]
                      },
                      {
                        "learn": [
                          484.3004585
                        ],
                        "iteration": 436,
                        "passed_time": 27.60097497,
                        "remaining_time": 35.55915082,
                        "test": [
                          553.2071075
                        ]
                      },
                      {
                        "learn": [
                          484.1043741
                        ],
                        "iteration": 437,
                        "passed_time": 27.62741201,
                        "remaining_time": 35.44887111,
                        "test": [
                          553.2802742
                        ]
                      },
                      {
                        "learn": [
                          483.9499637
                        ],
                        "iteration": 438,
                        "passed_time": 27.64917011,
                        "remaining_time": 35.33299416,
                        "test": [
                          553.1579389
                        ]
                      },
                      {
                        "learn": [
                          483.9012668
                        ],
                        "iteration": 439,
                        "passed_time": 27.67860191,
                        "remaining_time": 35.22731152,
                        "test": [
                          553.1109587
                        ]
                      },
                      {
                        "learn": [
                          483.782111
                        ],
                        "iteration": 440,
                        "passed_time": 27.71663811,
                        "remaining_time": 35.13288141,
                        "test": [
                          553.1375355
                        ]
                      },
                      {
                        "learn": [
                          483.7808335
                        ],
                        "iteration": 441,
                        "passed_time": 27.74061892,
                        "remaining_time": 35.02096234,
                        "test": [
                          553.1364829
                        ]
                      },
                      {
                        "learn": [
                          483.6045172
                        ],
                        "iteration": 442,
                        "passed_time": 27.76340197,
                        "remaining_time": 34.90793431,
                        "test": [
                          553.1729979
                        ]
                      },
                      {
                        "learn": [
                          483.4318172
                        ],
                        "iteration": 443,
                        "passed_time": 27.78641923,
                        "remaining_time": 34.79560606,
                        "test": [
                          553.0063349
                        ]
                      },
                      {
                        "learn": [
                          483.1750662
                        ],
                        "iteration": 444,
                        "passed_time": 27.81424438,
                        "remaining_time": 34.68967557,
                        "test": [
                          552.9021527
                        ]
                      },
                      {
                        "learn": [
                          483.0743214
                        ],
                        "iteration": 445,
                        "passed_time": 27.83756158,
                        "remaining_time": 34.57849577,
                        "test": [
                          552.8709839
                        ]
                      },
                      {
                        "learn": [
                          482.7860717
                        ],
                        "iteration": 446,
                        "passed_time": 27.86652121,
                        "remaining_time": 34.47468956,
                        "test": [
                          552.7587283
                        ]
                      },
                      {
                        "learn": [
                          482.62148
                        ],
                        "iteration": 447,
                        "passed_time": 27.89614287,
                        "remaining_time": 34.37203318,
                        "test": [
                          552.808027
                        ]
                      },
                      {
                        "learn": [
                          482.5695119
                        ],
                        "iteration": 448,
                        "passed_time": 27.91528676,
                        "remaining_time": 34.25684411,
                        "test": [
                          552.8033531
                        ]
                      },
                      {
                        "learn": [
                          482.2453534
                        ],
                        "iteration": 449,
                        "passed_time": 27.94231781,
                        "remaining_time": 34.15172177,
                        "test": [
                          552.6867292
                        ]
                      },
                      {
                        "learn": [
                          482.0854236
                        ],
                        "iteration": 450,
                        "passed_time": 27.96624048,
                        "remaining_time": 34.04316191,
                        "test": [
                          552.6800886
                        ]
                      },
                      {
                        "learn": [
                          481.897563
                        ],
                        "iteration": 451,
                        "passed_time": 27.98439186,
                        "remaining_time": 33.92797952,
                        "test": [
                          552.6037915
                        ]
                      },
                      {
                        "learn": [
                          481.8008101
                        ],
                        "iteration": 452,
                        "passed_time": 28.01421397,
                        "remaining_time": 33.82731798,
                        "test": [
                          552.643038
                        ]
                      },
                      {
                        "learn": [
                          481.747317
                        ],
                        "iteration": 453,
                        "passed_time": 28.03169094,
                        "remaining_time": 33.7121217,
                        "test": [
                          552.6674523
                        ]
                      },
                      {
                        "learn": [
                          481.6585046
                        ],
                        "iteration": 454,
                        "passed_time": 28.06317184,
                        "remaining_time": 33.61412891,
                        "test": [
                          552.646877
                        ]
                      },
                      {
                        "learn": [
                          481.5243117
                        ],
                        "iteration": 455,
                        "passed_time": 28.08743053,
                        "remaining_time": 33.50781186,
                        "test": [
                          552.676656
                        ]
                      },
                      {
                        "learn": [
                          481.3609977
                        ],
                        "iteration": 456,
                        "passed_time": 28.11673525,
                        "remaining_time": 33.40784954,
                        "test": [
                          552.612821
                        ]
                      },
                      {
                        "learn": [
                          481.0480218
                        ],
                        "iteration": 457,
                        "passed_time": 28.14387043,
                        "remaining_time": 33.30562833,
                        "test": [
                          552.2928089
                        ]
                      },
                      {
                        "learn": [
                          481.0247702
                        ],
                        "iteration": 458,
                        "passed_time": 28.16367451,
                        "remaining_time": 33.19509348,
                        "test": [
                          552.2731874
                        ]
                      },
                      {
                        "learn": [
                          480.9028065
                        ],
                        "iteration": 459,
                        "passed_time": 28.18955767,
                        "remaining_time": 33.09208943,
                        "test": [
                          552.3790571
                        ]
                      },
                      {
                        "learn": [
                          480.8211609
                        ],
                        "iteration": 460,
                        "passed_time": 28.21750922,
                        "remaining_time": 32.99183832,
                        "test": [
                          552.4282568
                        ]
                      },
                      {
                        "learn": [
                          480.7495411
                        ],
                        "iteration": 461,
                        "passed_time": 28.23836267,
                        "remaining_time": 32.88363446,
                        "test": [
                          552.4431385
                        ]
                      },
                      {
                        "learn": [
                          480.6640182
                        ],
                        "iteration": 462,
                        "passed_time": 28.26499875,
                        "remaining_time": 32.78251475,
                        "test": [
                          552.4647377
                        ]
                      },
                      {
                        "learn": [
                          480.4466642
                        ],
                        "iteration": 463,
                        "passed_time": 28.29478168,
                        "remaining_time": 32.68535125,
                        "test": [
                          552.519395
                        ]
                      },
                      {
                        "learn": [
                          480.4295598
                        ],
                        "iteration": 464,
                        "passed_time": 28.31272719,
                        "remaining_time": 32.57485817,
                        "test": [
                          552.4931807
                        ]
                      },
                      {
                        "learn": [
                          480.2370386
                        ],
                        "iteration": 465,
                        "passed_time": 28.33936171,
                        "remaining_time": 32.47471922,
                        "test": [
                          552.449936
                        ]
                      },
                      {
                        "learn": [
                          480.0993249
                        ],
                        "iteration": 466,
                        "passed_time": 28.36519532,
                        "remaining_time": 32.37398095,
                        "test": [
                          552.3694237
                        ]
                      },
                      {
                        "learn": [
                          479.8351727
                        ],
                        "iteration": 467,
                        "passed_time": 28.40176931,
                        "remaining_time": 32.28577195,
                        "test": [
                          552.2283974
                        ]
                      },
                      {
                        "learn": [
                          479.6428472
                        ],
                        "iteration": 468,
                        "passed_time": 28.45736109,
                        "remaining_time": 32.21931501,
                        "test": [
                          552.2799124
                        ]
                      },
                      {
                        "learn": [
                          479.6056086
                        ],
                        "iteration": 469,
                        "passed_time": 28.48188043,
                        "remaining_time": 32.11786517,
                        "test": [
                          552.2958682
                        ]
                      },
                      {
                        "learn": [
                          479.4051638
                        ],
                        "iteration": 470,
                        "passed_time": 28.50341697,
                        "remaining_time": 32.01339189,
                        "test": [
                          552.1270211
                        ]
                      },
                      {
                        "learn": [
                          479.3475685
                        ],
                        "iteration": 471,
                        "passed_time": 28.5383604,
                        "remaining_time": 31.92426757,
                        "test": [
                          552.1782342
                        ]
                      },
                      {
                        "learn": [
                          479.0937079
                        ],
                        "iteration": 472,
                        "passed_time": 28.58987288,
                        "remaining_time": 31.853833,
                        "test": [
                          552.1387731
                        ]
                      },
                      {
                        "learn": [
                          479.0486755
                        ],
                        "iteration": 473,
                        "passed_time": 28.64795487,
                        "remaining_time": 31.79076849,
                        "test": [
                          552.0942419
                        ]
                      },
                      {
                        "learn": [
                          478.8613095
                        ],
                        "iteration": 474,
                        "passed_time": 28.68289542,
                        "remaining_time": 31.70214757,
                        "test": [
                          552.1901598
                        ]
                      },
                      {
                        "learn": [
                          478.6687548
                        ],
                        "iteration": 475,
                        "passed_time": 28.72249066,
                        "remaining_time": 31.61887627,
                        "test": [
                          551.9895945
                        ]
                      },
                      {
                        "learn": [
                          478.5180699
                        ],
                        "iteration": 476,
                        "passed_time": 28.78079694,
                        "remaining_time": 31.55630356,
                        "test": [
                          551.9350002
                        ]
                      },
                      {
                        "learn": [
                          478.3958244
                        ],
                        "iteration": 477,
                        "passed_time": 28.83486287,
                        "remaining_time": 31.48911803,
                        "test": [
                          551.8944296
                        ]
                      },
                      {
                        "learn": [
                          478.3642595
                        ],
                        "iteration": 478,
                        "passed_time": 28.89060169,
                        "remaining_time": 31.42380685,
                        "test": [
                          551.9104145
                        ]
                      },
                      {
                        "learn": [
                          478.1564445
                        ],
                        "iteration": 479,
                        "passed_time": 28.94099059,
                        "remaining_time": 31.35273981,
                        "test": [
                          551.7070912
                        ]
                      },
                      {
                        "learn": [
                          478.0288146
                        ],
                        "iteration": 480,
                        "passed_time": 28.99260919,
                        "remaining_time": 31.28308559,
                        "test": [
                          551.6629915
                        ]
                      },
                      {
                        "learn": [
                          477.9839794
                        ],
                        "iteration": 481,
                        "passed_time": 29.02818492,
                        "remaining_time": 31.19626512,
                        "test": [
                          551.6750869
                        ]
                      },
                      {
                        "learn": [
                          477.8480498
                        ],
                        "iteration": 482,
                        "passed_time": 29.0860682,
                        "remaining_time": 31.1335347,
                        "test": [
                          551.7390175
                        ]
                      },
                      {
                        "learn": [
                          477.7771424
                        ],
                        "iteration": 483,
                        "passed_time": 29.12339088,
                        "remaining_time": 31.04890433,
                        "test": [
                          551.7368
                        ]
                      },
                      {
                        "learn": [
                          477.5586404
                        ],
                        "iteration": 484,
                        "passed_time": 29.17459776,
                        "remaining_time": 30.97921206,
                        "test": [
                          551.7813771
                        ]
                      },
                      {
                        "learn": [
                          477.5275127
                        ],
                        "iteration": 485,
                        "passed_time": 29.21261045,
                        "remaining_time": 30.89564151,
                        "test": [
                          551.796682
                        ]
                      },
                      {
                        "learn": [
                          477.2958741
                        ],
                        "iteration": 486,
                        "passed_time": 29.26265053,
                        "remaining_time": 30.82492756,
                        "test": [
                          551.6659644
                        ]
                      },
                      {
                        "learn": [
                          477.2029126
                        ],
                        "iteration": 487,
                        "passed_time": 29.30767214,
                        "remaining_time": 30.74903306,
                        "test": [
                          551.70342
                        ]
                      },
                      {
                        "learn": [
                          477.002311
                        ],
                        "iteration": 488,
                        "passed_time": 29.37592597,
                        "remaining_time": 30.69754227,
                        "test": [
                          551.5125214
                        ]
                      },
                      {
                        "learn": [
                          476.6181499
                        ],
                        "iteration": 489,
                        "passed_time": 29.42896051,
                        "remaining_time": 30.63014257,
                        "test": [
                          551.8756862
                        ]
                      },
                      {
                        "learn": [
                          476.5554733
                        ],
                        "iteration": 490,
                        "passed_time": 29.51288201,
                        "remaining_time": 30.59482065,
                        "test": [
                          551.8263823
                        ]
                      },
                      {
                        "learn": [
                          476.3870768
                        ],
                        "iteration": 491,
                        "passed_time": 29.56571921,
                        "remaining_time": 30.52720601,
                        "test": [
                          551.912827
                        ]
                      },
                      {
                        "learn": [
                          476.1900173
                        ],
                        "iteration": 492,
                        "passed_time": 29.61707019,
                        "remaining_time": 30.45812289,
                        "test": [
                          551.7801779
                        ]
                      },
                      {
                        "learn": [
                          476.0296553
                        ],
                        "iteration": 493,
                        "passed_time": 29.64881628,
                        "remaining_time": 30.36903044,
                        "test": [
                          551.7652258
                        ]
                      },
                      {
                        "learn": [
                          475.9091343
                        ],
                        "iteration": 494,
                        "passed_time": 29.70203116,
                        "remaining_time": 30.30207219,
                        "test": [
                          551.6729395
                        ]
                      },
                      {
                        "learn": [
                          475.8643365
                        ],
                        "iteration": 495,
                        "passed_time": 29.75223038,
                        "remaining_time": 30.23210507,
                        "test": [
                          551.6373707
                        ]
                      },
                      {
                        "learn": [
                          475.686892
                        ],
                        "iteration": 496,
                        "passed_time": 29.8020602,
                        "remaining_time": 30.16184362,
                        "test": [
                          551.6492457
                        ]
                      },
                      {
                        "learn": [
                          475.5029815
                        ],
                        "iteration": 497,
                        "passed_time": 29.85249876,
                        "remaining_time": 30.09227787,
                        "test": [
                          551.8982166
                        ]
                      },
                      {
                        "learn": [
                          475.2963183
                        ],
                        "iteration": 498,
                        "passed_time": 29.91350878,
                        "remaining_time": 30.0334026,
                        "test": [
                          552.0812293
                        ]
                      },
                      {
                        "learn": [
                          475.2109741
                        ],
                        "iteration": 499,
                        "passed_time": 29.94970811,
                        "remaining_time": 29.94970811,
                        "test": [
                          552.0464666
                        ]
                      },
                      {
                        "learn": [
                          475.1548356
                        ],
                        "iteration": 500,
                        "passed_time": 29.9980528,
                        "remaining_time": 29.87830009,
                        "test": [
                          552.1007294
                        ]
                      },
                      {
                        "learn": [
                          475.1160517
                        ],
                        "iteration": 501,
                        "passed_time": 30.04557155,
                        "remaining_time": 29.80616461,
                        "test": [
                          552.1012564
                        ]
                      },
                      {
                        "learn": [
                          475.0867275
                        ],
                        "iteration": 502,
                        "passed_time": 30.08825653,
                        "remaining_time": 29.72935089,
                        "test": [
                          552.0620646
                        ]
                      },
                      {
                        "learn": [
                          475.0107521
                        ],
                        "iteration": 503,
                        "passed_time": 30.14710563,
                        "remaining_time": 29.66858014,
                        "test": [
                          552.0063904
                        ]
                      },
                      {
                        "learn": [
                          474.9078435
                        ],
                        "iteration": 504,
                        "passed_time": 30.19625708,
                        "remaining_time": 29.5983114,
                        "test": [
                          552.0723777
                        ]
                      },
                      {
                        "learn": [
                          474.7198718
                        ],
                        "iteration": 505,
                        "passed_time": 30.24906596,
                        "remaining_time": 29.5316968,
                        "test": [
                          552.1157199
                        ]
                      },
                      {
                        "learn": [
                          474.4442558
                        ],
                        "iteration": 506,
                        "passed_time": 30.3197285,
                        "remaining_time": 29.48249734,
                        "test": [
                          552.1375615
                        ]
                      },
                      {
                        "learn": [
                          474.2839505
                        ],
                        "iteration": 507,
                        "passed_time": 30.37729808,
                        "remaining_time": 29.42053278,
                        "test": [
                          552.0883551
                        ]
                      },
                      {
                        "learn": [
                          474.0837509
                        ],
                        "iteration": 508,
                        "passed_time": 30.42504796,
                        "remaining_time": 29.34911306,
                        "test": [
                          552.2099571
                        ]
                      },
                      {
                        "learn": [
                          473.9675011
                        ],
                        "iteration": 509,
                        "passed_time": 30.49383394,
                        "remaining_time": 29.29799731,
                        "test": [
                          552.0548912
                        ]
                      },
                      {
                        "learn": [
                          473.8282528
                        ],
                        "iteration": 510,
                        "passed_time": 30.53822753,
                        "remaining_time": 29.22347018,
                        "test": [
                          551.9730477
                        ]
                      },
                      {
                        "learn": [
                          473.3453802
                        ],
                        "iteration": 511,
                        "passed_time": 30.57625683,
                        "remaining_time": 29.14299479,
                        "test": [
                          551.8444791
                        ]
                      },
                      {
                        "learn": [
                          473.264089
                        ],
                        "iteration": 512,
                        "passed_time": 30.62954507,
                        "remaining_time": 29.07717047,
                        "test": [
                          551.9319821
                        ]
                      },
                      {
                        "learn": [
                          473.2033866
                        ],
                        "iteration": 513,
                        "passed_time": 30.6802286,
                        "remaining_time": 29.0089321,
                        "test": [
                          551.9258016
                        ]
                      },
                      {
                        "learn": [
                          473.1951482
                        ],
                        "iteration": 514,
                        "passed_time": 30.71522099,
                        "remaining_time": 28.92598482,
                        "test": [
                          551.9535533
                        ]
                      },
                      {
                        "learn": [
                          473.1086057
                        ],
                        "iteration": 515,
                        "passed_time": 30.76737688,
                        "remaining_time": 28.8593225,
                        "test": [
                          551.9071944
                        ]
                      },
                      {
                        "learn": [
                          473.067564
                        ],
                        "iteration": 516,
                        "passed_time": 30.79994133,
                        "remaining_time": 28.77441328,
                        "test": [
                          551.8896594
                        ]
                      },
                      {
                        "learn": [
                          472.897168
                        ],
                        "iteration": 517,
                        "passed_time": 30.85639086,
                        "remaining_time": 28.71193127,
                        "test": [
                          551.7321002
                        ]
                      },
                      {
                        "learn": [
                          472.7249913
                        ],
                        "iteration": 518,
                        "passed_time": 30.91239439,
                        "remaining_time": 28.64905915,
                        "test": [
                          551.5755071
                        ]
                      },
                      {
                        "learn": [
                          472.6363285
                        ],
                        "iteration": 519,
                        "passed_time": 30.96162882,
                        "remaining_time": 28.57996507,
                        "test": [
                          551.5294892
                        ]
                      },
                      {
                        "learn": [
                          472.566895
                        ],
                        "iteration": 520,
                        "passed_time": 31.01472304,
                        "remaining_time": 28.51449585,
                        "test": [
                          551.5679232
                        ]
                      },
                      {
                        "learn": [
                          472.5159296
                        ],
                        "iteration": 521,
                        "passed_time": 31.05303513,
                        "remaining_time": 28.43553792,
                        "test": [
                          551.4813508
                        ]
                      },
                      {
                        "learn": [
                          472.3517845
                        ],
                        "iteration": 522,
                        "passed_time": 31.10677899,
                        "remaining_time": 28.37080991,
                        "test": [
                          551.2930258
                        ]
                      },
                      {
                        "learn": [
                          472.2915968
                        ],
                        "iteration": 523,
                        "passed_time": 31.13962809,
                        "remaining_time": 28.28714308,
                        "test": [
                          551.2628879
                        ]
                      },
                      {
                        "learn": [
                          472.2900886
                        ],
                        "iteration": 524,
                        "passed_time": 31.17398514,
                        "remaining_time": 28.20503418,
                        "test": [
                          551.2624478
                        ]
                      },
                      {
                        "learn": [
                          472.1977158
                        ],
                        "iteration": 525,
                        "passed_time": 31.21774196,
                        "remaining_time": 28.13157736,
                        "test": [
                          551.0470422
                        ]
                      },
                      {
                        "learn": [
                          472.0333346
                        ],
                        "iteration": 526,
                        "passed_time": 31.26422525,
                        "remaining_time": 28.06068035,
                        "test": [
                          551.013471
                        ]
                      },
                      {
                        "learn": [
                          471.7916411
                        ],
                        "iteration": 527,
                        "passed_time": 31.31419899,
                        "remaining_time": 27.99299606,
                        "test": [
                          550.953091
                        ]
                      },
                      {
                        "learn": [
                          471.6961253
                        ],
                        "iteration": 528,
                        "passed_time": 31.36391049,
                        "remaining_time": 27.92514526,
                        "test": [
                          550.9519608
                        ]
                      },
                      {
                        "learn": [
                          471.5885176
                        ],
                        "iteration": 529,
                        "passed_time": 31.39448121,
                        "remaining_time": 27.840389,
                        "test": [
                          550.8188525
                        ]
                      },
                      {
                        "learn": [
                          471.5201555
                        ],
                        "iteration": 530,
                        "passed_time": 31.41888958,
                        "remaining_time": 27.750394,
                        "test": [
                          550.7685133
                        ]
                      },
                      {
                        "learn": [
                          471.3606951
                        ],
                        "iteration": 531,
                        "passed_time": 31.44182537,
                        "remaining_time": 27.65935014,
                        "test": [
                          550.6543817
                        ]
                      },
                      {
                        "learn": [
                          471.1710074
                        ],
                        "iteration": 532,
                        "passed_time": 31.46259812,
                        "remaining_time": 27.56666664,
                        "test": [
                          550.6952656
                        ]
                      },
                      {
                        "learn": [
                          471.1187566
                        ],
                        "iteration": 533,
                        "passed_time": 31.51388676,
                        "remaining_time": 27.50088245,
                        "test": [
                          550.6914175
                        ]
                      },
                      {
                        "learn": [
                          470.9618963
                        ],
                        "iteration": 534,
                        "passed_time": 31.5332152,
                        "remaining_time": 27.40737396,
                        "test": [
                          550.6731488
                        ]
                      },
                      {
                        "learn": [
                          470.8959439
                        ],
                        "iteration": 535,
                        "passed_time": 31.55997596,
                        "remaining_time": 27.3205762,
                        "test": [
                          550.6136739
                        ]
                      },
                      {
                        "learn": [
                          470.7660972
                        ],
                        "iteration": 536,
                        "passed_time": 31.58165118,
                        "remaining_time": 27.22961731,
                        "test": [
                          550.4832354
                        ]
                      },
                      {
                        "learn": [
                          470.6162828
                        ],
                        "iteration": 537,
                        "passed_time": 31.61762918,
                        "remaining_time": 27.15119829,
                        "test": [
                          550.4382501
                        ]
                      },
                      {
                        "learn": [
                          470.1859613
                        ],
                        "iteration": 538,
                        "passed_time": 31.6573193,
                        "remaining_time": 27.07611168,
                        "test": [
                          550.6646498
                        ]
                      },
                      {
                        "learn": [
                          470.1372337
                        ],
                        "iteration": 539,
                        "passed_time": 31.67641163,
                        "remaining_time": 26.98360991,
                        "test": [
                          550.6579622
                        ]
                      },
                      {
                        "learn": [
                          470.1049573
                        ],
                        "iteration": 540,
                        "passed_time": 31.69969056,
                        "remaining_time": 26.89493155,
                        "test": [
                          550.6524422
                        ]
                      },
                      {
                        "learn": [
                          469.9038413
                        ],
                        "iteration": 541,
                        "passed_time": 31.72290862,
                        "remaining_time": 26.80644307,
                        "test": [
                          550.7414252
                        ]
                      },
                      {
                        "learn": [
                          469.8064509
                        ],
                        "iteration": 542,
                        "passed_time": 31.7437645,
                        "remaining_time": 26.71620695,
                        "test": [
                          550.7841855
                        ]
                      },
                      {
                        "learn": [
                          469.7201603
                        ],
                        "iteration": 543,
                        "passed_time": 31.76348345,
                        "remaining_time": 26.62527289,
                        "test": [
                          550.7970383
                        ]
                      },
                      {
                        "learn": [
                          469.6884239
                        ],
                        "iteration": 544,
                        "passed_time": 31.79112675,
                        "remaining_time": 26.54121591,
                        "test": [
                          550.8200274
                        ]
                      },
                      {
                        "learn": [
                          469.3936113
                        ],
                        "iteration": 545,
                        "passed_time": 31.81808614,
                        "remaining_time": 26.4567969,
                        "test": [
                          550.6821442
                        ]
                      },
                      {
                        "learn": [
                          469.352677
                        ],
                        "iteration": 546,
                        "passed_time": 31.83621699,
                        "remaining_time": 26.3652766,
                        "test": [
                          550.7225317
                        ]
                      },
                      {
                        "learn": [
                          469.2422727
                        ],
                        "iteration": 547,
                        "passed_time": 31.86354184,
                        "remaining_time": 26.28160751,
                        "test": [
                          550.7265758
                        ]
                      },
                      {
                        "learn": [
                          469.0105073
                        ],
                        "iteration": 548,
                        "passed_time": 31.89092488,
                        "remaining_time": 26.19819148,
                        "test": [
                          550.8533006
                        ]
                      },
                      {
                        "learn": [
                          468.9160799
                        ],
                        "iteration": 549,
                        "passed_time": 31.9190541,
                        "remaining_time": 26.11558972,
                        "test": [
                          550.8068262
                        ]
                      },
                      {
                        "learn": [
                          468.6930314
                        ],
                        "iteration": 550,
                        "passed_time": 31.94286868,
                        "remaining_time": 26.02966976,
                        "test": [
                          550.5156759
                        ]
                      },
                      {
                        "learn": [
                          468.5855334
                        ],
                        "iteration": 551,
                        "passed_time": 31.96268549,
                        "remaining_time": 25.94073025,
                        "test": [
                          550.4889611
                        ]
                      },
                      {
                        "learn": [
                          468.5158819
                        ],
                        "iteration": 552,
                        "passed_time": 31.98612915,
                        "remaining_time": 25.85497239,
                        "test": [
                          550.4758823
                        ]
                      },
                      {
                        "learn": [
                          468.3624799
                        ],
                        "iteration": 553,
                        "passed_time": 32.00696504,
                        "remaining_time": 25.76734008,
                        "test": [
                          550.4330078
                        ]
                      },
                      {
                        "learn": [
                          468.31217
                        ],
                        "iteration": 554,
                        "passed_time": 32.03383757,
                        "remaining_time": 25.68478868,
                        "test": [
                          550.3972495
                        ]
                      },
                      {
                        "learn": [
                          468.1592503
                        ],
                        "iteration": 555,
                        "passed_time": 32.05314291,
                        "remaining_time": 25.5963947,
                        "test": [
                          550.418508
                        ]
                      },
                      {
                        "learn": [
                          468.0087128
                        ],
                        "iteration": 556,
                        "passed_time": 32.07491864,
                        "remaining_time": 25.51021357,
                        "test": [
                          550.2944438
                        ]
                      },
                      {
                        "learn": [
                          467.9333172
                        ],
                        "iteration": 557,
                        "passed_time": 32.09681525,
                        "remaining_time": 25.42435903,
                        "test": [
                          550.2534412
                        ]
                      },
                      {
                        "learn": [
                          467.8469008
                        ],
                        "iteration": 558,
                        "passed_time": 32.11600293,
                        "remaining_time": 25.33659623,
                        "test": [
                          550.2775285
                        ]
                      },
                      {
                        "learn": [
                          467.8334328
                        ],
                        "iteration": 559,
                        "passed_time": 32.14128961,
                        "remaining_time": 25.2538704,
                        "test": [
                          550.3084988
                        ]
                      },
                      {
                        "learn": [
                          467.5361534
                        ],
                        "iteration": 560,
                        "passed_time": 32.16639907,
                        "remaining_time": 25.17121068,
                        "test": [
                          550.2694049
                        ]
                      },
                      {
                        "learn": [
                          467.40109
                        ],
                        "iteration": 561,
                        "passed_time": 32.19298105,
                        "remaining_time": 25.08990338,
                        "test": [
                          550.218418
                        ]
                      },
                      {
                        "learn": [
                          467.3451016
                        ],
                        "iteration": 562,
                        "passed_time": 32.21862345,
                        "remaining_time": 25.00806119,
                        "test": [
                          550.1863644
                        ]
                      },
                      {
                        "learn": [
                          467.198161
                        ],
                        "iteration": 563,
                        "passed_time": 32.24013003,
                        "remaining_time": 24.92322109,
                        "test": [
                          550.1582879
                        ]
                      },
                      {
                        "learn": [
                          467.1631025
                        ],
                        "iteration": 564,
                        "passed_time": 32.26817882,
                        "remaining_time": 24.8436421,
                        "test": [
                          550.1309441
                        ]
                      },
                      {
                        "learn": [
                          467.0329719
                        ],
                        "iteration": 565,
                        "passed_time": 32.28950214,
                        "remaining_time": 24.75908822,
                        "test": [
                          550.0973522
                        ]
                      },
                      {
                        "learn": [
                          466.8409853
                        ],
                        "iteration": 566,
                        "passed_time": 32.31222693,
                        "remaining_time": 24.67582762,
                        "test": [
                          549.754777
                        ]
                      },
                      {
                        "learn": [
                          466.5511718
                        ],
                        "iteration": 567,
                        "passed_time": 32.33566543,
                        "remaining_time": 24.593323,
                        "test": [
                          549.7379959
                        ]
                      },
                      {
                        "learn": [
                          466.3579382
                        ],
                        "iteration": 568,
                        "passed_time": 32.36238359,
                        "remaining_time": 24.51351024,
                        "test": [
                          549.6758854
                        ]
                      },
                      {
                        "learn": [
                          466.1849264
                        ],
                        "iteration": 569,
                        "passed_time": 32.3933227,
                        "remaining_time": 24.437068,
                        "test": [
                          549.7164784
                        ]
                      },
                      {
                        "learn": [
                          466.1828944
                        ],
                        "iteration": 570,
                        "passed_time": 32.41765022,
                        "remaining_time": 24.35581777,
                        "test": [
                          549.7161005
                        ]
                      },
                      {
                        "learn": [
                          465.9683294
                        ],
                        "iteration": 571,
                        "passed_time": 32.44376101,
                        "remaining_time": 24.2761009,
                        "test": [
                          549.7027728
                        ]
                      },
                      {
                        "learn": [
                          465.8112176
                        ],
                        "iteration": 572,
                        "passed_time": 32.46682686,
                        "remaining_time": 24.19430204,
                        "test": [
                          549.770052
                        ]
                      },
                      {
                        "learn": [
                          465.7619229
                        ],
                        "iteration": 573,
                        "passed_time": 32.51135696,
                        "remaining_time": 24.12863775,
                        "test": [
                          549.7342265
                        ]
                      },
                      {
                        "learn": [
                          465.525393
                        ],
                        "iteration": 574,
                        "passed_time": 32.53404418,
                        "remaining_time": 24.04690222,
                        "test": [
                          549.846967
                        ]
                      },
                      {
                        "learn": [
                          465.3204113
                        ],
                        "iteration": 575,
                        "passed_time": 32.56254642,
                        "remaining_time": 23.96965223,
                        "test": [
                          550.1603639
                        ]
                      },
                      {
                        "learn": [
                          465.1411752
                        ],
                        "iteration": 576,
                        "passed_time": 32.5921602,
                        "remaining_time": 23.89338607,
                        "test": [
                          550.0185413
                        ]
                      },
                      {
                        "learn": [
                          465.0838638
                        ],
                        "iteration": 577,
                        "passed_time": 32.61352484,
                        "remaining_time": 23.81125862,
                        "test": [
                          550.022793
                        ]
                      },
                      {
                        "learn": [
                          464.7662852
                        ],
                        "iteration": 578,
                        "passed_time": 32.63874876,
                        "remaining_time": 23.7321472,
                        "test": [
                          549.9393412
                        ]
                      },
                      {
                        "learn": [
                          464.7480018
                        ],
                        "iteration": 579,
                        "passed_time": 32.68398701,
                        "remaining_time": 23.66771473,
                        "test": [
                          549.9471669
                        ]
                      },
                      {
                        "learn": [
                          464.634738
                        ],
                        "iteration": 580,
                        "passed_time": 32.70978731,
                        "remaining_time": 23.58933026,
                        "test": [
                          549.9597418
                        ]
                      },
                      {
                        "learn": [
                          464.3945871
                        ],
                        "iteration": 581,
                        "passed_time": 32.72667422,
                        "remaining_time": 23.50472478,
                        "test": [
                          549.8595589
                        ]
                      },
                      {
                        "learn": [
                          464.3090028
                        ],
                        "iteration": 582,
                        "passed_time": 32.7553447,
                        "remaining_time": 23.42878,
                        "test": [
                          549.8439584
                        ]
                      },
                      {
                        "learn": [
                          464.095226
                        ],
                        "iteration": 583,
                        "passed_time": 32.77733048,
                        "remaining_time": 23.34823541,
                        "test": [
                          549.7991974
                        ]
                      },
                      {
                        "learn": [
                          464.0469454
                        ],
                        "iteration": 584,
                        "passed_time": 32.79622901,
                        "remaining_time": 23.26570092,
                        "test": [
                          549.7565284
                        ]
                      },
                      {
                        "learn": [
                          463.8981238
                        ],
                        "iteration": 585,
                        "passed_time": 32.82312989,
                        "remaining_time": 23.18903716,
                        "test": [
                          549.7676505
                        ]
                      },
                      {
                        "learn": [
                          463.6310303
                        ],
                        "iteration": 586,
                        "passed_time": 32.8495696,
                        "remaining_time": 23.11221847,
                        "test": [
                          549.9399243
                        ]
                      },
                      {
                        "learn": [
                          463.5658605
                        ],
                        "iteration": 587,
                        "passed_time": 32.87883687,
                        "remaining_time": 23.03755237,
                        "test": [
                          549.9347515
                        ]
                      },
                      {
                        "learn": [
                          463.4555808
                        ],
                        "iteration": 588,
                        "passed_time": 32.90374042,
                        "remaining_time": 22.95999543,
                        "test": [
                          549.8720444
                        ]
                      },
                      {
                        "learn": [
                          463.3139719
                        ],
                        "iteration": 589,
                        "passed_time": 32.92564264,
                        "remaining_time": 22.88053133,
                        "test": [
                          549.7623384
                        ]
                      },
                      {
                        "learn": [
                          463.2001372
                        ],
                        "iteration": 590,
                        "passed_time": 32.95020831,
                        "remaining_time": 22.80310524,
                        "test": [
                          549.7839136
                        ]
                      },
                      {
                        "learn": [
                          463.1713988
                        ],
                        "iteration": 591,
                        "passed_time": 32.97209129,
                        "remaining_time": 22.72400886,
                        "test": [
                          549.7653196
                        ]
                      },
                      {
                        "learn": [
                          463.142157
                        ],
                        "iteration": 592,
                        "passed_time": 32.99440164,
                        "remaining_time": 22.64539876,
                        "test": [
                          549.7895099
                        ]
                      },
                      {
                        "learn": [
                          463.0705134
                        ],
                        "iteration": 593,
                        "passed_time": 33.016495,
                        "remaining_time": 22.56682992,
                        "test": [
                          549.8030516
                        ]
                      },
                      {
                        "learn": [
                          463.0166945
                        ],
                        "iteration": 594,
                        "passed_time": 33.04031669,
                        "remaining_time": 22.48962732,
                        "test": [
                          549.8149166
                        ]
                      },
                      {
                        "learn": [
                          462.940427
                        ],
                        "iteration": 595,
                        "passed_time": 33.06774121,
                        "remaining_time": 22.41504605,
                        "test": [
                          549.7151416
                        ]
                      },
                      {
                        "learn": [
                          462.9131345
                        ],
                        "iteration": 596,
                        "passed_time": 33.09723799,
                        "remaining_time": 22.34202163,
                        "test": [
                          549.6916201
                        ]
                      },
                      {
                        "learn": [
                          462.825076
                        ],
                        "iteration": 597,
                        "passed_time": 33.1208005,
                        "remaining_time": 22.26515351,
                        "test": [
                          549.7316843
                        ]
                      },
                      {
                        "learn": [
                          462.7093594
                        ],
                        "iteration": 598,
                        "passed_time": 33.1447013,
                        "remaining_time": 22.18868985,
                        "test": [
                          549.6613806
                        ]
                      },
                      {
                        "learn": [
                          462.6200043
                        ],
                        "iteration": 599,
                        "passed_time": 33.16677811,
                        "remaining_time": 22.1111854,
                        "test": [
                          549.5785447
                        ]
                      },
                      {
                        "learn": [
                          462.5827847
                        ],
                        "iteration": 600,
                        "passed_time": 33.18326833,
                        "remaining_time": 22.03015651,
                        "test": [
                          549.6396102
                        ]
                      },
                      {
                        "learn": [
                          462.4890498
                        ],
                        "iteration": 601,
                        "passed_time": 33.20834894,
                        "remaining_time": 21.95502139,
                        "test": [
                          549.6922518
                        ]
                      },
                      {
                        "learn": [
                          462.2402245
                        ],
                        "iteration": 602,
                        "passed_time": 33.23180455,
                        "remaining_time": 21.87898243,
                        "test": [
                          549.6880744
                        ]
                      },
                      {
                        "learn": [
                          462.0967175
                        ],
                        "iteration": 603,
                        "passed_time": 33.25545497,
                        "remaining_time": 21.80324531,
                        "test": [
                          549.6490518
                        ]
                      },
                      {
                        "learn": [
                          462.0061852
                        ],
                        "iteration": 604,
                        "passed_time": 33.281629,
                        "remaining_time": 21.72932802,
                        "test": [
                          549.6014836
                        ]
                      },
                      {
                        "learn": [
                          461.8813515
                        ],
                        "iteration": 605,
                        "passed_time": 33.31090576,
                        "remaining_time": 21.6575856,
                        "test": [
                          549.8002554
                        ]
                      },
                      {
                        "learn": [
                          461.6007166
                        ],
                        "iteration": 606,
                        "passed_time": 33.33682673,
                        "remaining_time": 21.58381038,
                        "test": [
                          549.6824776
                        ]
                      },
                      {
                        "learn": [
                          461.4594668
                        ],
                        "iteration": 607,
                        "passed_time": 33.35877804,
                        "remaining_time": 21.50763321,
                        "test": [
                          549.6296821
                        ]
                      },
                      {
                        "learn": [
                          461.2279178
                        ],
                        "iteration": 608,
                        "passed_time": 33.38308227,
                        "remaining_time": 21.43314477,
                        "test": [
                          549.87025
                        ]
                      },
                      {
                        "learn": [
                          461.0201474
                        ],
                        "iteration": 609,
                        "passed_time": 33.41195991,
                        "remaining_time": 21.36174486,
                        "test": [
                          549.8271228
                        ]
                      },
                      {
                        "learn": [
                          460.788342
                        ],
                        "iteration": 610,
                        "passed_time": 33.4349532,
                        "remaining_time": 21.2867378,
                        "test": [
                          549.6437489
                        ]
                      },
                      {
                        "learn": [
                          460.6667515
                        ],
                        "iteration": 611,
                        "passed_time": 33.45529929,
                        "remaining_time": 21.21022242,
                        "test": [
                          549.6294929
                        ]
                      },
                      {
                        "learn": [
                          460.5148663
                        ],
                        "iteration": 612,
                        "passed_time": 33.49361823,
                        "remaining_time": 21.14523696,
                        "test": [
                          549.6611071
                        ]
                      },
                      {
                        "learn": [
                          460.3579637
                        ],
                        "iteration": 613,
                        "passed_time": 33.52348743,
                        "remaining_time": 21.0750263,
                        "test": [
                          549.6047319
                        ]
                      },
                      {
                        "learn": [
                          460.1592243
                        ],
                        "iteration": 614,
                        "passed_time": 33.55301857,
                        "remaining_time": 21.0047352,
                        "test": [
                          550.0333113
                        ]
                      },
                      {
                        "learn": [
                          459.9713751
                        ],
                        "iteration": 615,
                        "passed_time": 33.57016552,
                        "remaining_time": 20.92685643,
                        "test": [
                          550.0124954
                        ]
                      },
                      {
                        "learn": [
                          459.769167
                        ],
                        "iteration": 616,
                        "passed_time": 33.58872595,
                        "remaining_time": 20.85005193,
                        "test": [
                          550.1940004
                        ]
                      },
                      {
                        "learn": [
                          459.5397022
                        ],
                        "iteration": 617,
                        "passed_time": 33.61241358,
                        "remaining_time": 20.77660516,
                        "test": [
                          549.9262289
                        ]
                      },
                      {
                        "learn": [
                          459.4244157
                        ],
                        "iteration": 618,
                        "passed_time": 33.63664572,
                        "remaining_time": 20.70365431,
                        "test": [
                          550.0193468
                        ]
                      },
                      {
                        "learn": [
                          459.2382068
                        ],
                        "iteration": 619,
                        "passed_time": 33.65859237,
                        "remaining_time": 20.62945984,
                        "test": [
                          550.1531701
                        ]
                      },
                      {
                        "learn": [
                          458.9676265
                        ],
                        "iteration": 620,
                        "passed_time": 33.67710011,
                        "remaining_time": 20.55333485,
                        "test": [
                          550.1647345
                        ]
                      },
                      {
                        "learn": [
                          458.8162253
                        ],
                        "iteration": 621,
                        "passed_time": 33.71653212,
                        "remaining_time": 20.49011116,
                        "test": [
                          550.0289588
                        ]
                      },
                      {
                        "learn": [
                          458.74252
                        ],
                        "iteration": 622,
                        "passed_time": 33.73986505,
                        "remaining_time": 20.41722171,
                        "test": [
                          550.0287128
                        ]
                      },
                      {
                        "learn": [
                          458.6308613
                        ],
                        "iteration": 623,
                        "passed_time": 33.76324092,
                        "remaining_time": 20.34451696,
                        "test": [
                          550.0514309
                        ]
                      },
                      {
                        "learn": [
                          458.6292564
                        ],
                        "iteration": 624,
                        "passed_time": 33.78859455,
                        "remaining_time": 20.27315673,
                        "test": [
                          550.049778
                        ]
                      },
                      {
                        "learn": [
                          458.5459081
                        ],
                        "iteration": 625,
                        "passed_time": 33.83963165,
                        "remaining_time": 20.21728792,
                        "test": [
                          550.1056578
                        ]
                      },
                      {
                        "learn": [
                          458.5169753
                        ],
                        "iteration": 626,
                        "passed_time": 33.87479923,
                        "remaining_time": 20.1519938,
                        "test": [
                          550.0681656
                        ]
                      },
                      {
                        "learn": [
                          458.4880455
                        ],
                        "iteration": 627,
                        "passed_time": 33.89736914,
                        "remaining_time": 20.07933331,
                        "test": [
                          550.0961792
                        ]
                      },
                      {
                        "learn": [
                          458.4179658
                        ],
                        "iteration": 628,
                        "passed_time": 33.92086212,
                        "remaining_time": 20.00737655,
                        "test": [
                          550.0098318
                        ]
                      },
                      {
                        "learn": [
                          458.1898235
                        ],
                        "iteration": 629,
                        "passed_time": 33.94664393,
                        "remaining_time": 19.93691786,
                        "test": [
                          550.0781132
                        ]
                      },
                      {
                        "learn": [
                          458.1458761
                        ],
                        "iteration": 630,
                        "passed_time": 33.97035051,
                        "remaining_time": 19.86538723,
                        "test": [
                          550.0064749
                        ]
                      },
                      {
                        "learn": [
                          458.0203209
                        ],
                        "iteration": 631,
                        "passed_time": 33.99871214,
                        "remaining_time": 19.79671846,
                        "test": [
                          549.9728083
                        ]
                      },
                      {
                        "learn": [
                          457.8629574
                        ],
                        "iteration": 632,
                        "passed_time": 34.0213898,
                        "remaining_time": 19.72488161,
                        "test": [
                          549.9640336
                        ]
                      },
                      {
                        "learn": [
                          457.8586272
                        ],
                        "iteration": 633,
                        "passed_time": 34.04374034,
                        "remaining_time": 19.65301098,
                        "test": [
                          549.9534337
                        ]
                      },
                      {
                        "learn": [
                          457.7584758
                        ],
                        "iteration": 634,
                        "passed_time": 34.0720964,
                        "remaining_time": 19.58474832,
                        "test": [
                          550.0595384
                        ]
                      },
                      {
                        "learn": [
                          457.6111773
                        ],
                        "iteration": 635,
                        "passed_time": 34.09980472,
                        "remaining_time": 19.51624044,
                        "test": [
                          549.9529968
                        ]
                      },
                      {
                        "learn": [
                          457.5588036
                        ],
                        "iteration": 636,
                        "passed_time": 34.12577247,
                        "remaining_time": 19.44686877,
                        "test": [
                          549.9824548
                        ]
                      },
                      {
                        "learn": [
                          457.495236
                        ],
                        "iteration": 637,
                        "passed_time": 34.15175519,
                        "remaining_time": 19.37764166,
                        "test": [
                          549.9149224
                        ]
                      },
                      {
                        "learn": [
                          457.299837
                        ],
                        "iteration": 638,
                        "passed_time": 34.18069413,
                        "remaining_time": 19.31022,
                        "test": [
                          550.0762452
                        ]
                      },
                      {
                        "learn": [
                          457.1574427
                        ],
                        "iteration": 639,
                        "passed_time": 34.20474267,
                        "remaining_time": 19.24016775,
                        "test": [
                          550.0294277
                        ]
                      },
                      {
                        "learn": [
                          457.0171657
                        ],
                        "iteration": 640,
                        "passed_time": 34.23237968,
                        "remaining_time": 19.17226881,
                        "test": [
                          550.0729966
                        ]
                      },
                      {
                        "learn": [
                          457.0064698
                        ],
                        "iteration": 641,
                        "passed_time": 34.25843659,
                        "remaining_time": 19.10361418,
                        "test": [
                          550.0730297
                        ]
                      },
                      {
                        "learn": [
                          456.8148127
                        ],
                        "iteration": 642,
                        "passed_time": 34.28926025,
                        "remaining_time": 19.03773858,
                        "test": [
                          550.0934124
                        ]
                      },
                      {
                        "learn": [
                          456.7425122
                        ],
                        "iteration": 643,
                        "passed_time": 34.3156488,
                        "remaining_time": 18.96952014,
                        "test": [
                          550.0871177
                        ]
                      },
                      {
                        "learn": [
                          456.6149882
                        ],
                        "iteration": 644,
                        "passed_time": 34.34017101,
                        "remaining_time": 18.9004042,
                        "test": [
                          550.0142715
                        ]
                      },
                      {
                        "learn": [
                          456.4225739
                        ],
                        "iteration": 645,
                        "passed_time": 34.36326159,
                        "remaining_time": 18.8306418,
                        "test": [
                          550.0546512
                        ]
                      },
                      {
                        "learn": [
                          456.3306219
                        ],
                        "iteration": 646,
                        "passed_time": 34.39033521,
                        "remaining_time": 18.7631968,
                        "test": [
                          550.0353126
                        ]
                      },
                      {
                        "learn": [
                          456.1163991
                        ],
                        "iteration": 647,
                        "passed_time": 34.41388512,
                        "remaining_time": 18.69396229,
                        "test": [
                          550.0658319
                        ]
                      },
                      {
                        "learn": [
                          456.0519966
                        ],
                        "iteration": 648,
                        "passed_time": 34.4387712,
                        "remaining_time": 18.6255912,
                        "test": [
                          550.0050263
                        ]
                      },
                      {
                        "learn": [
                          456.0064877
                        ],
                        "iteration": 649,
                        "passed_time": 34.46583241,
                        "remaining_time": 18.55852514,
                        "test": [
                          549.9485765
                        ]
                      }
                    ],
                    "meta": {
                      "test_sets": [
                        "test"
                      ],
                      "test_metrics": [
                        {
                          "best_value": "Min",
                          "name": "RMSE"
                        }
                      ],
                      "learn_metrics": [
                        {
                          "best_value": "Min",
                          "name": "RMSE"
                        }
                      ],
                      "launch_mode": "Train",
                      "parameters": "",
                      "iteration_count": 1000,
                      "learn_sets": [
                        "learn"
                      ],
                      "name": "experiment"
                    }
                  }
                }
              }
            },
            "layout": "IPY_MODEL_c808fb1a8f55438a9cce36818902b517"
          }
        }
      }
    }
  },
  "cells": [
    {
      "cell_type": "code",
      "execution_count": 10,
      "metadata": {
        "id": "kXiIi5omxCTX"
      },
      "outputs": [],
      "source": [
        "import pandas as pd\n",
        "import numpy as np\n",
        "from catboost import CatBoostRegressor # Re-import after installation\n",
        "from sklearn.model_selection import train_test_split\n",
        "from sklearn.metrics import mean_squared_error, r2_score\n",
        "import matplotlib.pyplot as plt\n",
        "import seaborn as sns"
      ]
    },
    {
      "cell_type": "code",
      "metadata": {
        "colab": {
          "base_uri": "https://localhost:8080/"
        },
        "id": "afd023f3",
        "outputId": "99ae2030-7441-41c0-d01b-f47c3a6f86a1"
      },
      "source": [
        "!pip install catboost"
      ],
      "execution_count": 11,
      "outputs": [
        {
          "output_type": "stream",
          "name": "stdout",
          "text": [
            "Requirement already satisfied: catboost in /usr/local/lib/python3.12/dist-packages (1.2.8)\n",
            "Requirement already satisfied: graphviz in /usr/local/lib/python3.12/dist-packages (from catboost) (0.21)\n",
            "Requirement already satisfied: matplotlib in /usr/local/lib/python3.12/dist-packages (from catboost) (3.10.0)\n",
            "Requirement already satisfied: numpy<3.0,>=1.16.0 in /usr/local/lib/python3.12/dist-packages (from catboost) (2.0.2)\n",
            "Requirement already satisfied: pandas>=0.24 in /usr/local/lib/python3.12/dist-packages (from catboost) (2.2.2)\n",
            "Requirement already satisfied: scipy in /usr/local/lib/python3.12/dist-packages (from catboost) (1.16.2)\n",
            "Requirement already satisfied: plotly in /usr/local/lib/python3.12/dist-packages (from catboost) (5.24.1)\n",
            "Requirement already satisfied: six in /usr/local/lib/python3.12/dist-packages (from catboost) (1.17.0)\n",
            "Requirement already satisfied: python-dateutil>=2.8.2 in /usr/local/lib/python3.12/dist-packages (from pandas>=0.24->catboost) (2.9.0.post0)\n",
            "Requirement already satisfied: pytz>=2020.1 in /usr/local/lib/python3.12/dist-packages (from pandas>=0.24->catboost) (2025.2)\n",
            "Requirement already satisfied: tzdata>=2022.7 in /usr/local/lib/python3.12/dist-packages (from pandas>=0.24->catboost) (2025.2)\n",
            "Requirement already satisfied: contourpy>=1.0.1 in /usr/local/lib/python3.12/dist-packages (from matplotlib->catboost) (1.3.3)\n",
            "Requirement already satisfied: cycler>=0.10 in /usr/local/lib/python3.12/dist-packages (from matplotlib->catboost) (0.12.1)\n",
            "Requirement already satisfied: fonttools>=4.22.0 in /usr/local/lib/python3.12/dist-packages (from matplotlib->catboost) (4.60.1)\n",
            "Requirement already satisfied: kiwisolver>=1.3.1 in /usr/local/lib/python3.12/dist-packages (from matplotlib->catboost) (1.4.9)\n",
            "Requirement already satisfied: packaging>=20.0 in /usr/local/lib/python3.12/dist-packages (from matplotlib->catboost) (25.0)\n",
            "Requirement already satisfied: pillow>=8 in /usr/local/lib/python3.12/dist-packages (from matplotlib->catboost) (11.3.0)\n",
            "Requirement already satisfied: pyparsing>=2.3.1 in /usr/local/lib/python3.12/dist-packages (from matplotlib->catboost) (3.2.5)\n",
            "Requirement already satisfied: tenacity>=6.2.0 in /usr/local/lib/python3.12/dist-packages (from plotly->catboost) (8.5.0)\n"
          ]
        }
      ]
    },
    {
      "cell_type": "markdown",
      "source": [
        "# Загрузка данных"
      ],
      "metadata": {
        "id": "HZo0S5l2y2vF"
      }
    },
    {
      "cell_type": "code",
      "source": [
        "train_data = pd.read_csv('diamonds_train.csv')\n",
        "test_data = pd.read_csv('diamonds_test.csv')"
      ],
      "metadata": {
        "id": "MIiYRO0Ay6FD"
      },
      "execution_count": 12,
      "outputs": []
    },
    {
      "cell_type": "markdown",
      "source": [
        "# Подготовка данных для CatBoost"
      ],
      "metadata": {
        "id": "9-ZNJ_5Oy7PI"
      }
    },
    {
      "cell_type": "code",
      "source": [
        "categorical_features = ['cut', 'color', 'clarity']\n",
        "feature_cols = ['carat', 'depth', 'table', 'x', 'y', 'z'] + categorical_features\n",
        "target_col = 'price'\n",
        "\n",
        "X = train_data[feature_cols]\n",
        "y = train_data[target_col]\n",
        "X_test = test_data[feature_cols]\n"
      ],
      "metadata": {
        "id": "vlTauLelzFei"
      },
      "execution_count": 13,
      "outputs": []
    },
    {
      "cell_type": "markdown",
      "source": [
        "# Разделение на train/validation"
      ],
      "metadata": {
        "id": "-WxRVzoUzG9E"
      }
    },
    {
      "cell_type": "code",
      "source": [
        "X_train, X_val, y_train, y_val = train_test_split(\n",
        "    X, y, test_size=0.2, random_state=42, shuffle=True\n",
        ")"
      ],
      "metadata": {
        "id": "BzWB1lwEzJyU"
      },
      "execution_count": 14,
      "outputs": []
    },
    {
      "cell_type": "markdown",
      "source": [
        "# CatBoost модель"
      ],
      "metadata": {
        "id": "qb5grnQUzK3g"
      }
    },
    {
      "cell_type": "code",
      "source": [
        "catboost_model = CatBoostRegressor(\n",
        "    iterations=1000,\n",
        "    learning_rate=0.1,\n",
        "    depth=6,\n",
        "    cat_features=categorical_features,  # CatBoost сам обработает категории\n",
        "    random_seed=42,\n",
        "    verbose=100,\n",
        "    eval_metric='RMSE',\n",
        "    early_stopping_rounds=50\n",
        ")"
      ],
      "metadata": {
        "id": "j1x7wD5izMLC"
      },
      "execution_count": 15,
      "outputs": []
    },
    {
      "cell_type": "markdown",
      "source": [
        "# Обучение"
      ],
      "metadata": {
        "id": "uvFcDJ35zRY6"
      }
    },
    {
      "cell_type": "code",
      "source": [
        "catboost_model.fit(\n",
        "    X_train, y_train,\n",
        "    eval_set=(X_val, y_val),\n",
        "    plot=True,\n",
        "    use_best_model=True\n",
        ")"
      ],
      "metadata": {
        "colab": {
          "base_uri": "https://localhost:8080/",
          "height": 260,
          "referenced_widgets": [
            "fb5a46a70d004e628e4094f0fd669732"
          ]
        },
        "id": "Q6uFX--OzSCL",
        "outputId": "b0fcd3c0-74c4-4a06-a9da-f09c113cb3a8"
      },
      "execution_count": 16,
      "outputs": [
        {
          "output_type": "display_data",
          "data": {
            "text/plain": [
              "MetricVisualizer(layout=Layout(align_self='stretch', height='500px'))"
            ],
            "application/vnd.jupyter.widget-view+json": {
              "version_major": 2,
              "version_minor": 0,
              "model_id": "fb5a46a70d004e628e4094f0fd669732"
            }
          },
          "metadata": {}
        },
        {
          "output_type": "stream",
          "name": "stdout",
          "text": [
            "0:\tlearn: 3646.8312368\ttest: 3688.3032366\tbest: 3688.3032366 (0)\ttotal: 119ms\tremaining: 1m 58s\n",
            "100:\tlearn: 578.5826163\ttest: 592.3102338\tbest: 592.3102338 (100)\ttotal: 6.29s\tremaining: 56s\n",
            "200:\tlearn: 539.1638534\ttest: 570.3309211\tbest: 570.3309211 (200)\ttotal: 15.6s\tremaining: 1m 2s\n",
            "300:\tlearn: 511.8675037\ttest: 559.9791109\tbest: 559.8929653 (299)\ttotal: 23.7s\tremaining: 55.1s\n",
            "400:\tlearn: 491.4667685\ttest: 553.6050368\tbest: 553.5983931 (382)\ttotal: 26.7s\tremaining: 39.9s\n",
            "500:\tlearn: 475.1548356\ttest: 552.1007294\tbest: 551.5125214 (488)\ttotal: 30s\tremaining: 29.9s\n",
            "600:\tlearn: 462.5827847\ttest: 549.6396102\tbest: 549.5785447 (599)\ttotal: 33.2s\tremaining: 22s\n",
            "Stopped by overfitting detector  (50 iterations wait)\n",
            "\n",
            "bestTest = 549.5785447\n",
            "bestIteration = 599\n",
            "\n",
            "Shrink model to first 600 iterations.\n"
          ]
        },
        {
          "output_type": "execute_result",
          "data": {
            "text/plain": [
              "<catboost.core.CatBoostRegressor at 0x7e0caecacb60>"
            ]
          },
          "metadata": {},
          "execution_count": 16
        }
      ]
    },
    {
      "cell_type": "markdown",
      "source": [
        "# Предсказание на validation"
      ],
      "metadata": {
        "id": "0VALsGlnzYce"
      }
    },
    {
      "cell_type": "code",
      "source": [
        "y_pred_cat = catboost_model.predict(X_val)"
      ],
      "metadata": {
        "id": "7Wi3tWvazZ9V"
      },
      "execution_count": 17,
      "outputs": []
    },
    {
      "cell_type": "markdown",
      "source": [
        "# Оценка модели"
      ],
      "metadata": {
        "id": "rv-WuyzTza-M"
      }
    },
    {
      "cell_type": "code",
      "source": [
        "rmse_cat = np.sqrt(mean_squared_error(y_val, y_pred_cat))\n",
        "r2_cat = r2_score(y_val, y_pred_cat)\n",
        "\n",
        "print(f\"CatBoost RMSE: {rmse_cat:.2f}\")\n",
        "print(f\"CatBoost R²: {r2_cat:.4f}\")"
      ],
      "metadata": {
        "colab": {
          "base_uri": "https://localhost:8080/"
        },
        "id": "iHh0-swJzcFS",
        "outputId": "994d9113-fa07-4299-dad7-146c3417e82f"
      },
      "execution_count": 18,
      "outputs": [
        {
          "output_type": "stream",
          "name": "stdout",
          "text": [
            "CatBoost RMSE: 549.58\n",
            "CatBoost R²: 0.9813\n"
          ]
        }
      ]
    },
    {
      "cell_type": "markdown",
      "source": [
        "# Предсказание на test данных"
      ],
      "metadata": {
        "id": "URZ4yehZ1EUV"
      }
    },
    {
      "cell_type": "code",
      "source": [
        "print(\"\\nДелаем предсказания на test данных...\")\n",
        "test_predictions = catboost_model.predict(X_test)\n",
        "\n",
        "print(f\"Размер предсказаний: {len(test_predictions)}\")\n",
        "print(f\"Примеры предсказаний: {test_predictions[:5]}\")"
      ],
      "metadata": {
        "colab": {
          "base_uri": "https://localhost:8080/"
        },
        "id": "hYXvdB0E1FoO",
        "outputId": "13a7e24c-3028-4b2d-e6c5-970568d1fde9"
      },
      "execution_count": 19,
      "outputs": [
        {
          "output_type": "stream",
          "name": "stdout",
          "text": [
            "\n",
            "Делаем предсказания на test данных...\n",
            "Размер предсказаний: 5379\n",
            "Примеры предсказаний: [4195.02935965 2468.08265794  717.46177849 1254.70507022  914.94217797]\n"
          ]
        }
      ]
    },
    {
      "cell_type": "markdown",
      "source": [
        "# Создание submission файла"
      ],
      "metadata": {
        "id": "S7lbOIb31Hcl"
      }
    },
    {
      "cell_type": "code",
      "source": [
        "submission = pd.DataFrame({\n",
        "    'id': test_data['id'],\n",
        "    'price': test_predictions\n",
        "})"
      ],
      "metadata": {
        "id": "uDC07dO51JL7"
      },
      "execution_count": 20,
      "outputs": []
    },
    {
      "cell_type": "markdown",
      "source": [
        "# Проверка submission"
      ],
      "metadata": {
        "id": "tVvl4Cb01LUZ"
      }
    },
    {
      "cell_type": "code",
      "source": [
        "print(\"\\n=== ПРОВЕРКА SUBMISSION ФАЙЛА ===\")\n",
        "print(f\"Размер submission: {submission.shape}\")\n",
        "print(f\"Пропущенные значения в submission: {submission.isnull().sum().sum()}\")\n",
        "print(f\"Минимальная цена: {submission['price'].min():.2f}\")\n",
        "print(f\"Максимальная цена: {submission['price'].max():.2f}\")\n",
        "print(f\"Средняя цена: {submission['price'].mean():.2f}\")\n"
      ],
      "metadata": {
        "colab": {
          "base_uri": "https://localhost:8080/"
        },
        "id": "93VHIFdK1Mi_",
        "outputId": "16d369b0-1bd0-474e-d4dd-563814e41530"
      },
      "execution_count": 21,
      "outputs": [
        {
          "output_type": "stream",
          "name": "stdout",
          "text": [
            "\n",
            "=== ПРОВЕРКА SUBMISSION ФАЙЛА ===\n",
            "Размер submission: (5379, 2)\n",
            "Пропущенные значения в submission: 0\n",
            "Минимальная цена: 203.10\n",
            "Максимальная цена: 18500.90\n",
            "Средняя цена: 3937.48\n"
          ]
        }
      ]
    },
    {
      "cell_type": "markdown",
      "source": [
        "# Сохранение submission"
      ],
      "metadata": {
        "id": "0KXKsEd61QJX"
      }
    },
    {
      "cell_type": "code",
      "source": [
        "submission_file = 'submission.csv'\n",
        "submission.to_csv(submission_file, index=False)\n",
        "print(f\"\\n✅ Submission файл сохранен как: {submission_file}\")\n"
      ],
      "metadata": {
        "colab": {
          "base_uri": "https://localhost:8080/"
        },
        "id": "lOq8ZItJ1Qqv",
        "outputId": "db1e616a-b4bd-4c05-e2cb-62e48671d564"
      },
      "execution_count": 22,
      "outputs": [
        {
          "output_type": "stream",
          "name": "stdout",
          "text": [
            "\n",
            "✅ Submission файл сохранен как: submission.csv\n"
          ]
        }
      ]
    },
    {
      "cell_type": "markdown",
      "source": [
        "# Анализ важности признаков"
      ],
      "metadata": {
        "id": "e3F7iw5-1bUr"
      }
    },
    {
      "cell_type": "code",
      "source": [
        "feature_importance = pd.DataFrame({\n",
        "    'feature': feature_cols,\n",
        "    'importance': catboost_model.get_feature_importance()\n",
        "}).sort_values('importance', ascending=False)\n",
        "\n",
        "print(\"\\n=== ВАЖНОСТЬ ПРИЗНАКОВ ===\")\n",
        "print(feature_importance)"
      ],
      "metadata": {
        "colab": {
          "base_uri": "https://localhost:8080/"
        },
        "id": "k62qOmAv1cbQ",
        "outputId": "ff4f97f9-a73d-4902-8cd9-9d4613f861a4"
      },
      "execution_count": 23,
      "outputs": [
        {
          "output_type": "stream",
          "name": "stdout",
          "text": [
            "\n",
            "=== ВАЖНОСТЬ ПРИЗНАКОВ ===\n",
            "   feature  importance\n",
            "4        y   26.192528\n",
            "0    carat   21.746286\n",
            "8  clarity   18.350572\n",
            "7    color   11.777523\n",
            "3        x   10.473926\n",
            "5        z    9.901310\n",
            "1    depth    0.583083\n",
            "6      cut    0.511249\n",
            "2    table    0.463523\n"
          ]
        }
      ]
    },
    {
      "cell_type": "markdown",
      "source": [
        "# Визуализация важности признаков"
      ],
      "metadata": {
        "id": "OIrPA9Jl1for"
      }
    },
    {
      "cell_type": "code",
      "source": [
        "plt.figure(figsize=(10, 6))\n",
        "sns.barplot(data=feature_importance, x='importance', y='feature')\n",
        "plt.title('CatBoost Feature Importance')\n",
        "plt.xlabel('Важность')\n",
        "plt.tight_layout()\n",
        "plt.savefig('feature_importance.png', dpi=300, bbox_inches='tight')\n",
        "plt.show()"
      ],
      "metadata": {
        "colab": {
          "base_uri": "https://localhost:8080/",
          "height": 607
        },
        "id": "8YJa_S1d1gBZ",
        "outputId": "1d2398dd-2e18-4c3e-9627-f598b0400833"
      },
      "execution_count": 24,
      "outputs": [
        {
          "output_type": "display_data",
          "data": {
            "text/plain": [
              "<Figure size 1000x600 with 1 Axes>"
            ],
            "image/png": "[encoded data removed]"
          },
          "metadata": {}
        }
      ]
    },
    {
      "cell_type": "markdown",
      "source": [
        "# Дополнительная проверка распределения предсказаний"
      ],
      "metadata": {
        "id": "2J6oJhkD1idO"
      }
    },
    {
      "cell_type": "code",
      "source": [
        "plt.figure(figsize=(12, 4))\n",
        "\n",
        "plt.subplot(1, 2, 1)\n",
        "plt.hist(train_data['price'], bins=50, alpha=0.7, label='Real prices')\n",
        "plt.hist(test_predictions, bins=50, alpha=0.7, label='Predicted prices')\n",
        "plt.xlabel('Price')\n",
        "plt.ylabel('Frequency')\n",
        "plt.title('Distribution: Real vs Predicted Prices')\n",
        "plt.legend()\n",
        "\n",
        "plt.subplot(1, 2, 2)\n",
        "plt.scatter(range(len(test_predictions)), np.sort(test_predictions))\n",
        "plt.xlabel('Index')\n",
        "plt.ylabel('Sorted Predicted Price')\n",
        "plt.title('Sorted Predicted Prices')\n",
        "\n",
        "plt.tight_layout()\n",
        "plt.savefig('predictions_analysis.png', dpi=300, bbox_inches='tight')\n",
        "plt.show()"
      ],
      "metadata": {
        "colab": {
          "base_uri": "https://localhost:8080/",
          "height": 402
        },
        "id": "ZTuzENgC1jBI",
        "outputId": "13db45d1-273e-41ac-ee42-9258cc22485b"
      },
      "execution_count": 25,
      "outputs": [
        {
          "output_type": "display_data",
          "data": {
            "text/plain": [
              "<Figure size 1200x400 with 2 Axes>"
            ],
            "image/png": "[encoded data removed]"
          },
          "metadata": {}
        }
      ]
    }
  ]
}